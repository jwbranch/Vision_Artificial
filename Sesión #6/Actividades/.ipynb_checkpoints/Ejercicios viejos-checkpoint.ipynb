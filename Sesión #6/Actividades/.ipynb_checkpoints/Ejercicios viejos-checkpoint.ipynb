{
 "cells": [
  {
   "cell_type": "markdown",
   "metadata": {},
   "source": [
    "# ACTIVIDAD 1\n",
    "\n",
    "Lea con OpenCV el vídeo bacterias.mp4 que se encuentra en la carpeta 'res/aritm' y, utilizando las operaciones de promedio de imágenes y resta, genere una versión del mismo vídeo en la que solo se vea el movimiento.\n",
    "\n",
    "Nota: Documentación de OpenCV para manejo de vídeos https://docs.opencv.org/3.0-beta/doc/py_tutorials/py_gui/py_video_display/py_video_display.html"
   ]
  },
  {
   "cell_type": "code",
   "execution_count": null,
   "metadata": {},
   "outputs": [],
   "source": [
    "%matplotlib inline \n",
    "import cv2\n",
    "import numpy as np\n",
    "from matplotlib import pyplot as plt\n",
    "\n",
    "#Utilizar cv2.videocapture para leer el video\n",
    "vid = cv2.VideoCapture('res/aritm/bacterias.mp4')\n",
    "#Frames por segundo\n",
    "fps = vid.get(cv2.CAP_PROP_FPS)\n",
    "#Número de cuadros del video\n",
    "length = vid.get(cv2.CAP_PROP_FRAME_COUNT)\n",
    "\n",
    "print(\"El vídeo consta de \", length, \" cuadros, y va a \", fps, \" cuadros por segundo.\")\n",
    "\n",
    "#Crear una lista para guardar los frames\n",
    "frames = []\n",
    "i = 0 \n",
    "#Ciclo para guardar cada cuadro en la lista frames, se detiene cuando i = #cuadros\n",
    "while(vid.isOpened()):\n",
    "    #Capturar frame por frame\n",
    "    ret, frame = vid.read()\n",
    "    frame = cv2.cvtColor(frame, cv2.COLOR_BGR2RGB)\n",
    "    frames.append(frame)\n",
    "    i+=1\n",
    "    if (i==length):\n",
    "        break             \n",
    "vid.release()\n",
    "print(\"Se guardaron \", length, \" cuadros en el arreglo 'frames'.\")\n",
    "\n",
    "#Crear una figura 1x4 para mostrar los primeros 4 frames del video\n",
    "fig = plt.figure(figsize=(15,24))\n",
    "    \n",
    "plt.subplot(1,4,1)\n",
    "plt.imshow(frames[10],cmap='gray')\n",
    "plt.title(\"Frame 1\")\n",
    "\n",
    "plt.subplot(1,4,2)\n",
    "plt.imshow(frames[70],cmap='gray')\n",
    "plt.title(\"Frame 2\")\n",
    "\n",
    "plt.subplot(1,4,3)\n",
    "plt.imshow(frames[100],cmap='gray')\n",
    "plt.title(\"Frame 3\")\n",
    "\n",
    "plt.subplot(1,4,4)\n",
    "plt.imshow(frames[400],cmap='gray')\n",
    "plt.title(\"Frame 4\");"
   ]
  },
  {
   "cell_type": "markdown",
   "metadata": {},
   "source": [
    "# ACTIVIDAD 2\n",
    "\n",
    "Repita la actividad 1 pero utilizando la operación de división en lugar de la de resta."
   ]
  },
  {
   "cell_type": "code",
   "execution_count": null,
   "metadata": {},
   "outputs": [],
   "source": []
  },
  {
   "cell_type": "markdown",
   "metadata": {},
   "source": [
    "# ACTIVIDAD 3\n",
    "\n",
    "Una aplicación interesante de las operaciones aritméticas es la obtención de imágenes con retoque artístico. Un ejemplo es el ﬁltro emboss, cuyo efecto logra un realce de bordes, los cuales se ven en relieve sobre un fondo gris neutro (similar a un repujado sobre una placa metálica).\n",
    "\n",
    "El principio de operación es el siguiente: si a una imagen se le resta ella misma, se obtiene una imagen negra (grises=0 en toda posición), pero si una de la imágenes se desplaza unos pocos pixeles en alguna dirección, el efecto obtenido es el de repujado.\n",
    "\n",
    "Implemente el ﬁltro teniendo en cuenta que el tamaño de la imagen de salida será truncado según el desplazamiento considerado. El efecto obtenido será diferente (relieve exterior o interior) según qué imagen de entrada es “negativizada”.\n"
   ]
  },
  {
   "cell_type": "code",
   "execution_count": null,
   "metadata": {},
   "outputs": [],
   "source": []
  }
 ],
 "metadata": {
  "kernelspec": {
   "display_name": "Python 3",
   "language": "python",
   "name": "python3"
  },
  "language_info": {
   "codemirror_mode": {
    "name": "ipython",
    "version": 3
   },
   "file_extension": ".py",
   "mimetype": "text/x-python",
   "name": "python",
   "nbconvert_exporter": "python",
   "pygments_lexer": "ipython3",
   "version": "3.6.7"
  }
 },
 "nbformat": 4,
 "nbformat_minor": 2
}
