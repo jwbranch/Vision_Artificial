{
 "cells": [
  {
   "cell_type": "markdown",
   "metadata": {},
   "source": [
    "# Visión Artificial 2020-02 Taller Segmentación.\n",
    "\n",
    "Recuerden que pueden consultar la semana 7 (Segmentación y bordes) en el GitHub del curso.\n",
    "\n",
    "## https://github.com/alceballosa/Vision-Artificial-2019-01"
   ]
  },
  {
   "cell_type": "markdown",
   "metadata": {},
   "source": [
    "# METODOLOGIA (LEER, MUY IMPORTANTE)\n",
    "\n",
    "Este notebook, tiene una metodología de trabajo muy distinta a la usual, el objetivo es que usted escriba el código en los espacios indicados, una vez lo ejecute debe obtener la \"Salida esperada:\" para corroborar su resultado.\n",
    "\n",
    "Para saber dónde debe escribir, observe los espacios que dicen ###ESCRIBA SU CÓDIGO AQUÍ###, para saber dónde parar de escribir su código ###TERMINA SU CÓDIGO###.\n",
    "\n",
    "Así mismo, <b> NO DEBE MODIFICAR LOS NOMBRES DE LAS VARIABLES</b>, solamente los espacios que dicen \"None\""
   ]
  },
  {
   "cell_type": "markdown",
   "metadata": {},
   "source": [
    "# Importar librerías"
   ]
  },
  {
   "cell_type": "code",
   "execution_count": 6,
   "metadata": {},
   "outputs": [],
   "source": [
    "#Importar librerías\n",
    "%matplotlib inline\n",
    "\n",
    "import cv2\n",
    "import matplotlib.pyplot as plt\n",
    "import numpy as np\n",
    "import warnings\n",
    "warnings.filterwarnings('ignore')"
   ]
  },
  {
   "cell_type": "markdown",
   "metadata": {},
   "source": [
    "# Funciones útiles para la lectura de imágenes y otros procedimientos.\n",
    "\n",
    "Recuerde que utilizar estas funciones es opcional, aunque muy sugerido (menos líneas de código)"
   ]
  },
  {
   "cell_type": "code",
   "execution_count": 5,
   "metadata": {},
   "outputs": [],
   "source": [
    "### UTILIDADES PARA LA LECTURA DE IMÁGENES\n",
    "#Función de lectura rápida de imágenes a color y en escala de grises\n",
    "def img_read(filename, mode = 'color'):\n",
    "    if(mode == 'color'):   \n",
    "        return cv2.cvtColor(cv2.imread(filename),cv2.COLOR_BGR2RGB)\n",
    "    elif(mode=='grayscale' or mode=='greyscale' or mode == 'gray' or mode == 'grey'):\n",
    "        return cv2.imread(filename, cv2.IMREAD_GRAYSCALE)\n",
    "    else:\n",
    "        return None\n",
    "\n",
    "    #Función para interpolar los puntos entre 0 y 255\n",
    "def img_scale(img, value_range = [0,255]):\n",
    "    return (value_range[1] - value_range[0])*(img - np.min(img))/(np.max(img)-np.min(img)) + value_range[0]\n",
    "    \n",
    "    #Función para enviar los extremos superior e inferior a 0 y 255 respectivamente en la matriz\n",
    "def img_trim(img, value_range = [0, 255]):\n",
    "    res = img.copy()\n",
    "    res[res > 255] = 255\n",
    "    res[res < 0] = 0\n",
    "    return res"
   ]
  },
  {
   "cell_type": "markdown",
   "metadata": {},
   "source": [
    "# Actividades \n",
    "\n",
    "## 1.\n",
    "\n",
    "Lea la imagen \"res/gato.jpg\" en escala de grises, redimensionela al tamaño 400x400 y, utilizando un kernel de tamaño 25x25, realice un perfilado de bordes. Recuerde antes de realizar esta operación, debe aplicar un filtro Gaussiano sobre la imagen de entrada."
   ]
  },
  {
   "cell_type": "code",
   "execution_count": null,
   "metadata": {},
   "outputs": [],
   "source": [
    "#Leer la imagen de entrada en escala de grises ≈ 1 linea\n",
    "\n",
    "####SU CODIGO AQUÍ#####\n",
    "img = None\n",
    "#####TERMINA SU CODIGO#####\n",
    "\n",
    "#Darle a la imagen el tamaño 400x400 ≈ 1 linea\n",
    "\n",
    "####SU CODIGO AQUÍ#####\n",
    "img = None\n",
    "#####TERMINA SU CODIGO#####\n",
    "\n",
    "#Dar tamaño al kernel ≈ 1 linea\n",
    "\n",
    "####SU CODIGO AQUÍ#####\n",
    "k_size = None\n",
    "#####TERMINA SU CODIGO#####\n",
    "\n",
    "#Aplicar filtro Gaussiano en opencv: cv2.GaussianBlur(imagen,dimensiones del kernel,sigma) ≈ 1 linea\n",
    "\n",
    "####SU CODIGO AQUÍ#####\n",
    "gaussian = None\n",
    "#####TERMINA SU CODIGO#####\n",
    "\n",
    "#Crear la máscara que corresponde a la resta entre la imagen original y el filtro gaussiano: utilice cv2.subtract() ≈ 1 linea\n",
    "\n",
    "####SU CODIGO AQUÍ#####\n",
    "mascara_unsharp = None\n",
    "#####TERMINA SU CODIGO#####\n",
    "\n",
    "#Generar un subplot 1x2 para mostrar imagen original, con filtro gaussiano, la máscara y el resultado\n",
    "fig, arreglo_plots = plt.subplots(1,2, figsize=(10, 15), dpi = 100)\n",
    "\n",
    "arreglo_plots[0].set_title('Imagen original')\n",
    "arreglo_plots[0].imshow(img, cmap=\"gray\", vmin=0, vmax=255)\n",
    "\n",
    "arreglo_plots[1].set_title('Máscara Unsharp(Bordes Resaltados)')\n",
    "arreglo_plots[1].imshow(mascara_unsharp, cmap=\"gray\", vmin=0, vmax=255)"
   ]
  },
  {
   "cell_type": "markdown",
   "metadata": {},
   "source": [
    "### Salida esperada:\n",
    "\n",
    "<img src= \"res/primerpunto.png\">"
   ]
  },
  {
   "cell_type": "markdown",
   "metadata": {},
   "source": [
    "Ahora, finalicemos el realzado sumando la imagen original(imagen de entrada) y la máscara que creamos."
   ]
  },
  {
   "cell_type": "code",
   "execution_count": null,
   "metadata": {},
   "outputs": [],
   "source": [
    "#Sumar la imagen de entrada con la máscara: use cv2.add() ≈ 1 linea\n",
    "\n",
    "####SU CODIGO AQUÍ#####\n",
    "res = None\n",
    "#####TERMINA SU CODIGO#####\n",
    "\n",
    "fig, arreglo_plots = plt.subplots(1,2, figsize=(10, 15), dpi = 100)\n",
    "\n",
    "arreglo_plots[0].set_title('Imagen original')\n",
    "arreglo_plots[0].imshow(img, cmap=\"gray\", vmin=0, vmax=255)\n",
    "\n",
    "arreglo_plots[1].set_title('Bordes Realzados')\n",
    "arreglo_plots[1].imshow(res, cmap=\"gray\", vmin=0, vmax=255)"
   ]
  },
  {
   "cell_type": "markdown",
   "metadata": {},
   "source": [
    "### Salida esperada:\n",
    "\n",
    "<img src = \"res/primerpunto2.png\">"
   ]
  },
  {
   "cell_type": "markdown",
   "metadata": {},
   "source": [
    "## 2.\n",
    "\n",
    "Lea la imagen \"res/cuadricula.png\" en escala de grises con tipo de dato float32, posteriormente, realice una detección de líneas mediante el método de convolución.\n",
    "\n",
    "A continuación se muestran las distintas máscaras de convolución que debe utilizar para extraer el borde que necesite.\n",
    "\n",
    "<img src=\"res/lines_detector.png\\\" alt=\"\" style=\"height:200px\">\n",
    "\n",
    "Implemente la máscara que extrae lineas horizontales y la máscara que extrae lineas a -45°\n"
   ]
  },
  {
   "cell_type": "code",
   "execution_count": null,
   "metadata": {},
   "outputs": [],
   "source": [
    "#Leer la imagen de entrada en escala de grises ≈ 1 linea\n",
    "#Para dar tipo de dato float32: img_read(filename,\"...\").astype(np.float32)\n",
    "\n",
    "####SU CODIGO AQUÍ#####\n",
    "img = None\n",
    "#####TERMINA SU CODIGO#####\n",
    "\n",
    "#Implemente la máscara horizontal y la máscara líneas a +45° ≈ 2 lineas\n",
    "\n",
    "####SU CODIGO AQUÍ#####\n",
    "mask1 = None\n",
    "mask2 = None\n",
    "#####TERMINA SU CODIGO#####\n",
    "\n",
    "#Imprimir las máscaras\n",
    "\n",
    "print(\"La máscara que permite encontrar líneas horizontales es: \\n\", mask1)\n",
    "\n",
    "print(\"La máscara que permite encontrar líneas a -45° es: \\n\", mask2)"
   ]
  },
  {
   "cell_type": "markdown",
   "metadata": {},
   "source": [
    "### Salida esperada:\n",
    "\n",
    "<img src = \"res/mascaraoutput.png\" style=\"height:150px\">"
   ]
  },
  {
   "cell_type": "markdown",
   "metadata": {},
   "source": [
    "Ahora, aplique la convolución sobre la imagen original utilizando los kernel que implementó, recuerde utilizar la función filter2D de OpenCv (el motivo se vio en la práctica anterior :P)."
   ]
  },
  {
   "cell_type": "code",
   "execution_count": null,
   "metadata": {},
   "outputs": [],
   "source": [
    "#Aplique la convolución utilizando cv2.filter2D con ddepth=-1. ≈ 2 lineas\n",
    "\n",
    "####SU CODIGO AQUÍ#####\n",
    "imgf1 = None      #mascara1\n",
    "imgf2 = None      #mascara2\n",
    "#####TERMINA SU CODIGO#####"
   ]
  },
  {
   "cell_type": "markdown",
   "metadata": {},
   "source": [
    "A continuación, utilice su implementación para detectar las líneas horizontales sobre la cuadrícula"
   ]
  },
  {
   "cell_type": "code",
   "execution_count": null,
   "metadata": {},
   "outputs": [],
   "source": [
    "#Llame el filtro que extrae líneas horizontales ≈ 1 linea\n",
    "\n",
    "####SU CODIGO AQUÍ#####\n",
    "res = None\n",
    "#####TERMINA SU CODIGO#####\n",
    "\n",
    "#Aplicar función img_trim para escalar los valores entre 0 y 255 nuevamente\n",
    "res = img_trim(res)\n",
    "\n",
    "#Generar subplot 1x2 y mostrar imagen original e imagen con extracción de bordes\n",
    "fig, (ax1,ax2) = plt.subplots(1,2, figsize=(15, 8))\n",
    "ax1.set_title('Imagen Original')\n",
    "ax1.imshow(img, cmap='gray')\n",
    "ax2.set_title('Extracción de bordes horizontales')\n",
    "ax2.imshow(res, cmap='gray') "
   ]
  },
  {
   "cell_type": "markdown",
   "metadata": {},
   "source": [
    "### Salida esperada:\n",
    "\n",
    "<img src=\"res/output2.png\">"
   ]
  },
  {
   "cell_type": "markdown",
   "metadata": {},
   "source": [
    "Adicionalmente, pruebe que, si intenta encontrar líneas a -45°, el resultado será una imagen vacía."
   ]
  },
  {
   "cell_type": "code",
   "execution_count": null,
   "metadata": {},
   "outputs": [],
   "source": [
    "#Llame el filtro que extrae líneas a -45° ≈ 1 linea\n",
    "\n",
    "####SU CODIGO AQUÍ#####\n",
    "res = None\n",
    "#####TERMINA SU CODIGO#####\n",
    "\n",
    "#Aplicar función img_trim para escalar los valores entre 0 y 255 nuevamente\n",
    "res = img_trim(res)\n",
    "\n",
    "#Generar subplot 1x2 y mostrar imagen original e imagen con extracción de bordes\n",
    "fig, (ax1,ax2) = plt.subplots(1,2, figsize=(15, 8))\n",
    "ax1.set_title('Imagen Original')\n",
    "ax1.imshow(img, cmap='gray')\n",
    "ax2.set_title('Extracción de bordes a -45°')\n",
    "ax2.imshow(res, cmap='gray') "
   ]
  },
  {
   "cell_type": "markdown",
   "metadata": {},
   "source": [
    "### Salida esperada:\n",
    "\n",
    "<img src=\"res/output.png\">"
   ]
  },
  {
   "cell_type": "markdown",
   "metadata": {},
   "source": [
    "## 3.\n",
    "\n",
    "¡Vamos a implementar filtros para extraer bordes!\n",
    "\n",
    "Basandonos en la teoría de convolución, existen diversos tipos de filtros que pueden aplicarse sobre una imagen para obtener los bordes de ésta.\n",
    "\n",
    "A continuación, se implementarán 3 filtros distintos.\n",
    "\n",
    "### Lea la imagen \"res/gato.jpg\" en escala de grises."
   ]
  },
  {
   "cell_type": "markdown",
   "metadata": {},
   "source": [
    "## Filtro Sobel\n",
    "\n",
    "No olvide leer estas útiles librerías para implementar el filtro Sobel (Y consultarlo en las notas!)"
   ]
  },
  {
   "cell_type": "code",
   "execution_count": 7,
   "metadata": {},
   "outputs": [],
   "source": [
    "#Importar librerías\n",
    "%matplotlib inline\n",
    "\n",
    "import numpy as np\n",
    "import matplotlib.pyplot as plt\n",
    "from skimage.filters import sobel_v,sobel_h, sobel\n",
    "import skimage "
   ]
  },
  {
   "cell_type": "markdown",
   "metadata": {},
   "source": [
    "A continuación, procederemos con la lectura de la imagen, definiremos los gradientes y finalmente calcularemos la magnitud del gradiente Sobel (que corresponde a los bordes de la imagen original)\n",
    "\n",
    "## Nota: Recuerde que el tamaño del kernel en el filtro Sobel, es 3x3."
   ]
  },
  {
   "cell_type": "code",
   "execution_count": null,
   "metadata": {},
   "outputs": [],
   "source": [
    "#Leer imagen de entrada con tipo de dato float32  ≈ 1 linea\n",
    "\n",
    "####SU CODIGO AQUÍ#####\n",
    "img = None\n",
    "#####TERMINA SU CODIGO#####\n",
    "\n",
    "#La función Sobel recibe: la imagen, el parámetro ddepth, el orden de la derivada que queremos calcular\n",
    "#en x, el orden de la derivada que queremos calcular en y,  el tamaño del kernel.\n",
    "\n",
    "#Utilice la función cv2.Sobel(imagen, ddepth=-1, dx,dy,ksize)  ≈ 2 lineas\n",
    "\n",
    "####SU CODIGO AQUÍ#####\n",
    "gradiente_x = None\n",
    "gradiente_y = None\n",
    "#####TERMINA SU CODIGO#####\n",
    "\n",
    "#Generar subplot 2x2 para mostrar la imagen original, sus gradientes x e y & la magnitud\n",
    "fig, ax = plt.subplots(1,3, figsize=(20, 20))\n",
    "ax[0].set_title('Imagen Original')\n",
    "ax[0].imshow(img, cmap='gray')\n",
    "ax[1].set_title('Gradiente en x (sobel)')\n",
    "ax[1].imshow(gradiente_x, cmap='gray')\n",
    "ax[2].set_title('Gradiente en y (sobel)')\n",
    "ax[2].imshow(gradiente_y, cmap='gray')"
   ]
  },
  {
   "cell_type": "markdown",
   "metadata": {},
   "source": [
    "## Salida esperada:\n",
    "\n",
    "<img src= \"res/sobel.png\">"
   ]
  },
  {
   "cell_type": "markdown",
   "metadata": {},
   "source": [
    "Recuerde que la magnitud Sobel se define como cualquier vector:\n",
    "\n",
    "<h2>MagnitudSobel = $\\sqrt(grad_x^2 + grad_y^2)$</h2>"
   ]
  },
  {
   "cell_type": "code",
   "execution_count": null,
   "metadata": {},
   "outputs": [],
   "source": [
    "#Calcula la magnitud del sobel, por definición  ≈ 1 linea\n",
    "\n",
    "####SU CODIGO AQUÍ#####\n",
    "magnitud_sobel = None\n",
    "#####TERMINA SU CODIGO#####\n",
    "\n",
    "#Realizar el escalamiento de la imagen\n",
    "magnitud_sobel = img_scale(magnitud_sobel)\n",
    "\n",
    "fig, ax = plt.subplots(1,2, figsize=(20, 20))\n",
    "ax[0].set_title('Imagen Original')\n",
    "ax[0].imshow(img, cmap='gray')\n",
    "ax[1].set_title('Magnitud del filtro Sobel')\n",
    "ax[1].imshow(magnitud_sobel, cmap='gray')"
   ]
  },
  {
   "cell_type": "markdown",
   "metadata": {},
   "source": [
    "## Salida esperada:\n",
    "\n",
    "<img src = \"res/sobel2.png\">"
   ]
  },
  {
   "cell_type": "markdown",
   "metadata": {},
   "source": [
    "## Filtro Prewitt"
   ]
  },
  {
   "cell_type": "markdown",
   "metadata": {},
   "source": [
    "¿Qué sucedería si no tenemos a mano una función como cv2.Sobel() que realiza el cálculo utilizando las máscaras adecuadas?\n",
    "\n",
    "Utilizando la teoría de convolución, y con las máscaras indicadas podemos implementar nuestro propio Filtro Prewitt.\n",
    "\n",
    "A continuación se presentan las máscaras:\n",
    "\n",
    "<h2>$\\partial_x=\\begin{bmatrix}\n",
    " -1 & 0 & 1\\\\ \n",
    " -1 & 0 & 1\\\\ \n",
    " -1 & 0 & 1\n",
    "\\end{bmatrix}$</h2>\n",
    "<h2>$\\partial_y=\\begin{bmatrix}\n",
    " -1 & -1 & -1\\\\ \n",
    " 0 & 0 & 0\\\\ \n",
    " 1 & 1 & 1\n",
    "\\end{bmatrix}$</h2>\n",
    "\n",
    "Inicialmente, realicemos la implementación de las máscaras mostradas anteriormente $\\partial_x, \\partial_y $"
   ]
  },
  {
   "cell_type": "code",
   "execution_count": null,
   "metadata": {},
   "outputs": [],
   "source": [
    "#Crear las máscaras del filtro Prewitt con tipo de dato entero ≈ 2 lineas\n",
    "\n",
    "####SU CODIGO AQUÍ#####\n",
    "prewitt_x= None\n",
    "prewitt_y= None\n",
    "#####TERMINA SU CODIGO#####\n",
    "\n",
    "print(\"La máscara Prewitt en X es: \\n\", prewitt_x)\n",
    "print(\"La máscara Prewitt en Y es: \\n\", prewitt_y)"
   ]
  },
  {
   "cell_type": "markdown",
   "metadata": {},
   "source": [
    "## Salida esperada:\n",
    "\n",
    "<img src = \"res/prew.png\">"
   ]
  },
  {
   "cell_type": "markdown",
   "metadata": {},
   "source": [
    "Ahora, leamos la imagen \"res/gato.jpg\" en escala de grises, apliquemos la convolución con los kernel que acabamos de implementar y veamos el resultado.\n",
    "\n",
    "Nota:\n",
    "\n",
    "<h2>MagnitudPrewitt = $\\sqrt(convolución_x^2 + convolución_y^2)$</h2>"
   ]
  },
  {
   "cell_type": "code",
   "execution_count": null,
   "metadata": {},
   "outputs": [],
   "source": [
    "#Leer la imagen de entrada con tipo de dato float32 ≈ 1 linea\n",
    "\n",
    "####SU CODIGO AQUÍ#####\n",
    "img = None\n",
    "#####TERMINA SU CODIGO#####\n",
    "\n",
    "#Aplicar la convolución (ddepth=-1) con los kernel en x & y ≈ 2 lineas\n",
    "\n",
    "####SU CODIGO AQUÍ#####\n",
    "imgc1 = None   #convolución con el kernel prewitt_x\n",
    "imgc2 = None   #convolución con el kernel prewitt_y\n",
    "#####TERMINA SU CODIGO#####\n",
    "\n",
    "#Calcular la magnitud Prewitt ≈ 1 linea\n",
    "\n",
    "####SU CODIGO AQUÍ#####\n",
    "magnitud_prewitt = None\n",
    "#####TERMINA SU CODIGO#####\n",
    "\n",
    "#Escalar los datos\n",
    "magnitud_prewitt = img_scale(magnitud_prewitt)\n",
    "\n",
    "#Generar un subplot 1x2 para mostrar imagen original y la magnitud del gradiente Prewitt\n",
    "fig, (ax1,ax2) = plt.subplots(1,2, figsize=(20, 20))\n",
    "ax1.set_title('Imagen original')\n",
    "ax1.imshow(img, cmap='gray')\n",
    "ax2.set_title('Magnitud del gradiente')\n",
    "ax2.imshow((magnitud_prewitt), cmap='gray')"
   ]
  },
  {
   "cell_type": "markdown",
   "metadata": {},
   "source": [
    "## Salida esperada:\n",
    "\n",
    "<img src = \"res/prew2.png\">"
   ]
  },
  {
   "cell_type": "markdown",
   "metadata": {},
   "source": [
    "Finalmente, observemos en qué se diferencian las aproximaciones de estos dos filtros."
   ]
  },
  {
   "cell_type": "code",
   "execution_count": null,
   "metadata": {},
   "outputs": [],
   "source": [
    "#Restar las magnitudes de los filtros (Sobel-Prewitt) ≈ 1 linea\n",
    "\n",
    "####SU CODIGO AQUÍ#####\n",
    "diferencia = None\n",
    "#####TERMINA SU CODIGO#####\n",
    "\n",
    "#Generar subplot 1x2 para mostrar las magnitudes y su diferencia\n",
    "fig, ax = plt.subplots(1,3, figsize=(20, 30))\n",
    "ax[0].set_title('Magnitud tras sobel')\n",
    "ax[0].imshow(magnitud_sobel, cmap='gray')\n",
    "ax[1].set_title('Magnitud tras prewitt')\n",
    "ax[1].imshow(magnitud_prewitt, cmap='gray')\n",
    "ax[2].set_title('Diferencia')\n",
    "ax[2].imshow(diferencia, cmap='gray')"
   ]
  },
  {
   "cell_type": "markdown",
   "metadata": {},
   "source": [
    "## Salida esperada:\n",
    "\n",
    "<img src = \"res/diff.png\" alt=\"\" style=\"height:150px\">"
   ]
  },
  {
   "cell_type": "markdown",
   "metadata": {},
   "source": [
    "## Filtro Frei-Chen\n",
    "\n",
    "Tal como el filtro Prewitt, este filtro posee sus propias máscaras de convolución.\n",
    "\n",
    "<h2>$\\partial_x=\\begin{bmatrix}\n",
    " -1 & 0 & 1\\\\ \n",
    " -\\sqrt{2} & 0 & \\sqrt{2}\\\\ \n",
    " -1 & 0 & 1\n",
    "\\end{bmatrix}$</h2>\n",
    "<h2>$\\partial_y=\\begin{bmatrix}\n",
    " -1 & -\\sqrt{2} & -1\\\\ \n",
    " 0 & 0 & 0\\\\ \n",
    " 1 & \\sqrt{2} & 1\n",
    "\\end{bmatrix}$</h2>\n",
    "<br>\n",
    "\n",
    "A continuación, implemente las máscaras Frei-Chen en X & Y"
   ]
  },
  {
   "cell_type": "code",
   "execution_count": null,
   "metadata": {},
   "outputs": [],
   "source": [
    "#Crear las máscaras del filtro Prewitt con tipo de dato entero ≈ 2 lineas\n",
    "\n",
    "####SU CODIGO AQUÍ#####\n",
    "freichen_x= None\n",
    "freichen_y= None\n",
    "#####TERMINA SU CODIGO#####\n",
    "\n",
    "print(\"La máscara Frei-Chen en X es: \\n\", freichen_x)\n",
    "print(\"La máscara Frei-Chen en Y es: \\n\", freichen_y)"
   ]
  },
  {
   "cell_type": "markdown",
   "metadata": {},
   "source": [
    "## Salida esperada:\n",
    "\n",
    "<img src= \"res/freimask.png\">"
   ]
  },
  {
   "cell_type": "markdown",
   "metadata": {},
   "source": [
    "### Lea la imagen \"res/pez.jpg\" en escala de grises\n",
    "\n",
    "<h2>MagnitudFreichen = $\\sqrt(convolución_x^2 + convolución_y^2)$</h2>"
   ]
  },
  {
   "cell_type": "code",
   "execution_count": null,
   "metadata": {},
   "outputs": [],
   "source": [
    "#Leer la imagen de entrada  ≈ 1 linea\n",
    "\n",
    "####SU CODIGO AQUÍ#####\n",
    "img = None\n",
    "#####TERMINA SU CODIGO#####\n",
    "\n",
    "#Convolucionar la imagen de entrada con los filtros freichen_x y freichen_y ≈ 2 lineas\n",
    "\n",
    "####SU CODIGO AQUÍ#####\n",
    "imgc1 = None #convolución freichen_x\n",
    "imgc2 = None #convolución freichen_y\n",
    "#####TERMINA SU CODIGO#####\n",
    "\n",
    "#Calcular la magnitud ≈ 1 linea\n",
    "\n",
    "####SU CODIGO AQUÍ#####\n",
    "magnitud_freichen = None\n",
    "#####TERMINA SU CODIGO#####\n",
    "\n",
    "#Escalar los datos\n",
    "magnitud_freichen = img_scale(magnitud_freichen)\n",
    "\n",
    "#Generar un subplot 1x2 para mostrar imagen original y la magnitud del gradiente Prewitt\n",
    "fig, (ax1,ax2) = plt.subplots(1,2, figsize=(20, 20))\n",
    "ax1.set_title('Imagen original')\n",
    "ax1.imshow(img, cmap='gray')\n",
    "ax2.set_title('Magnitud del gradiente Frei-Chen')\n",
    "ax2.imshow(magnitud_freichen, cmap='gray')"
   ]
  },
  {
   "cell_type": "markdown",
   "metadata": {},
   "source": [
    "## Salida esperada:\n",
    "\n",
    "<img src = \"res/gradfreichen.png\">"
   ]
  },
  {
   "cell_type": "markdown",
   "metadata": {},
   "source": [
    "## 4.\n",
    "\n",
    "Ahora que sabemos cómo implementar operadores basados en la primera derivada, veamos cómo funcionan los operadores de Segunda Derivada.\n",
    "\n",
    "Dada la ausencia de dos gradientes, estos operadores se implementan mediante una única convolución.\n",
    "\n",
    "## El filtro de la Laplaciana\n",
    "\n",
    "<h2>$\\nabla^2f(x,y)=\\frac{\\partial^2f}{\\partial_x^2}+\\frac{\\partial^2f}{\\partial_y^2}$</h2>\n",
    "\n",
    "Utilizando las siguientes máscaras de convolución, implementemos el Filtro de la Laplaciana. Las llamaremos máscara 1 y máscara 2 respectivamente.\n",
    "\n",
    "<h2>$\\nabla^2f=f*\\begin{bmatrix}\n",
    " 1 & -2 & 1\\\\ \n",
    " -2 & 4 & -2\\\\ \n",
    " 1 & -2 & 1\n",
    "\\end{bmatrix}$</h2>\n",
    "\n",
    "<h2>$\\nabla^2f=f*\\begin{bmatrix}\n",
    " -1 & -1 & -1\\\\ \n",
    " -1 & 8 & -1\\\\ \n",
    " -1 & -1 & -1\n",
    "\\end{bmatrix}$</h2>\n",
    "\n",
    "Lea la imagen \"res/botones.jpg\" en escala de grises."
   ]
  },
  {
   "cell_type": "code",
   "execution_count": null,
   "metadata": {},
   "outputs": [],
   "source": [
    "#Leer imagen de entrada en escala de grises  ≈ 1 linea\n",
    "\n",
    "####SU CODIGO AQUÍ#####\n",
    "img = None\n",
    "#####TERMINA SU CODIGO#####\n",
    "\n",
    "#Crear las máscaras de convolución  ≈ 2 lineas\n",
    "\n",
    "####SU CODIGO AQUÍ#####\n",
    "mask1 = None #máscara 1\n",
    "mask2 = None #máscara 2\n",
    "#####TERMINA SU CODIGO#####\n",
    "\n",
    "print(\"La máscara de convolución 1 en X es: \\n\", mask1)\n",
    "print(\"La máscara de convolucion 2 es: \\n\", mask2)"
   ]
  },
  {
   "cell_type": "markdown",
   "metadata": {},
   "source": [
    "## Salida esperada:\n",
    "\n",
    "<img src = \"res/mascaralaplaciana.png\">"
   ]
  },
  {
   "cell_type": "markdown",
   "metadata": {},
   "source": [
    "Ahora, realizaremos las dos convoluciones respectivas y observaremos los resultados."
   ]
  },
  {
   "cell_type": "code",
   "execution_count": null,
   "metadata": {},
   "outputs": [],
   "source": [
    "#Realizar la convolución ≈ 2 lineas\n",
    "\n",
    "####SU CODIGO AQUÍ#####\n",
    "laplace_filtered1 = None #Convolución máscara 1\n",
    "laplace_filtered2 = None #Convolución máscara 2\n",
    "#####TERMINA SU CODIGO#####\n",
    "\n",
    "#Generar subplot 1x3 para mostrar imagen original y convolución Laplaciana\n",
    "fig, ax = plt.subplots(1,3, figsize=(15, 8))\n",
    "ax[0].set_title('Imagen Original')\n",
    "ax[0].imshow(img, cmap='gray')\n",
    "ax[1].set_title('Convolucion Laplaciana 1')\n",
    "ax[1].imshow(laplace_filtered1, cmap='gray')\n",
    "ax[2].set_title('Convolucion Laplaciana 2')\n",
    "ax[2].imshow(laplace_filtered2, cmap='gray')"
   ]
  },
  {
   "cell_type": "markdown",
   "metadata": {},
   "source": [
    "## Salida esperada:\n",
    "\n",
    "<img src = \"res/convolucionlaplaciana.png\">"
   ]
  },
  {
   "cell_type": "markdown",
   "metadata": {},
   "source": [
    "Aun así, no se pueden apreciar correctamente los bordes de los botones. Aunque es un buen acercamiento, podemos mejorarlo.\n",
    "\n",
    "Para ello utilizaremos un método denominado, Laplaciana de la Gaussiana. Tal como su nombre lo indica, primero se aplica un filtro Gaussiano a la imagen de entrada, posteriormente un Laplaciano, en ese orden.\n",
    "\n",
    "Implementemos una Laplaciana de la Gaussiana para diferenciar correcta y claramente los botones en la imagen.\n",
    "\n",
    "### El kernel es de tamaño 25x25 y el sigma = 1.8"
   ]
  },
  {
   "cell_type": "code",
   "execution_count": null,
   "metadata": {},
   "outputs": [],
   "source": [
    "#Leer la imagen de entrada en escala de grises y tipo de dato float32 ≈ 1 linea\n",
    "\n",
    "####SU CODIGO AQUÍ#####\n",
    "img = None\n",
    "#####TERMINA SU CODIGO#####\n",
    "\n",
    "#Definir sigma y el tamaño del kernel ≈ 2 lineas\n",
    "\n",
    "####SU CODIGO AQUÍ#####\n",
    "sigma = None\n",
    "k_size = None\n",
    "#####TERMINA SU CODIGO#####\n",
    "\n",
    "#Aplicar un filtro Gaussiano sobre la imagen ≈ 1 linea\n",
    "\n",
    "####SU CODIGO AQUÍ#####\n",
    "res =  None\n",
    "#####TERMINA SU CODIGO#####\n",
    "\n",
    "#Aplicar un laplaciano sobre la imagen filtrada (res), utilice cv2.Laplacian, \n",
    "#con parámetros ddepth = -1 y ksize=3 ≈ 1 linea\n",
    "\n",
    "####SU CODIGO AQUÍ#####\n",
    "res = None\n",
    "#####TERMINA SU CODIGO#####\n",
    "\n",
    "#Escalar los valores menores a 0 y mayores que 255\n",
    "res = img_trim(res)\n",
    "\n",
    "#Generar un subplot para mostrar imagen original y la Laplaciana de la Gaussiana \n",
    "fig2, ax = plt.subplots(1,2, figsize=(10, 7))\n",
    "ax[0].set_title('imagen original')\n",
    "ax[0].imshow(img, cmap='gray')\n",
    "ax[1].set_title('Laplaciana de la Gaussiana con sigma= '+str(sigma))\n",
    "ax[1].imshow(res, cmap='gray')"
   ]
  },
  {
   "cell_type": "markdown",
   "metadata": {},
   "source": [
    "## Salida esperada:\n",
    "\n",
    "<img src = \"res/lapga.png\">"
   ]
  },
  {
   "cell_type": "markdown",
   "metadata": {},
   "source": [
    "Finalmente, veamos una demostración de la Transformada de Hough probabilística para líneas (Existe otra versión para círculos, revisar en las notas)\n",
    "\n",
    "Recuerde que para aplicar correctamente la transformada de Hough, primero debe aplicar un Filtro Canny sobre la imagen.\n",
    "\n",
    "Lea la imagen \"res/cuadricula.png\" en RGB."
   ]
  },
  {
   "cell_type": "code",
   "execution_count": null,
   "metadata": {},
   "outputs": [],
   "source": [
    "#Leer imagen de entrada en RGB ≈ 1 linea\n",
    "\n",
    "####SU CODIGO AQUÍ#####\n",
    "img = None\n",
    "#####TERMINA SU CODIGO#####\n",
    "\n",
    "#Aplicar filtro Canny, threshold sugerido: 0 y 10 ≈ 1 linea\n",
    "\n",
    "####SU CODIGO AQUÍ#####\n",
    "edges = None\n",
    "#####TERMINA SU CODIGO#####\n",
    "\n",
    "#Aplicar la transformada probabilistica de Hough y hallar los puntos x1,y1,x2,y2\n",
    "#por los que pasa la línea recta\n",
    "lines = cv2.HoughLinesP(edges,1,np.pi/180,100,minLineLength=100,maxLineGap=10)\n",
    "for line in lines:\n",
    "    x1,y1,x2,y2 = line[0]\n",
    "    cv2.line(img,(x1,y1),(x2,y2),(0,255,0),2)\n",
    "    \n",
    "#Mostrar la imagen\n",
    "plt.imshow(img,cmap='gray')"
   ]
  },
  {
   "cell_type": "markdown",
   "metadata": {},
   "source": [
    "## Salida esperada:\n",
    "\n",
    "<img src = \"res/hough.png\">"
   ]
  },
  {
   "cell_type": "markdown",
   "metadata": {},
   "source": [
    "Se aprecian las líneas verdes, que resaltan precisamente toda las líneas presentes en la imagen."
   ]
  },
  {
   "cell_type": "markdown",
   "metadata": {},
   "source": [
    "## Transformada de Hough para círculos\n",
    "\n",
    "¿Por qué no identificamos los círculos externos de los botones con la transformada de Hough? Podría sernos de gran utilidad. \n",
    "\n",
    "A continuación, implementemos un algoritmo que nos permita llegar a nuestro objetivo.\n",
    "\n",
    "Lea la imagen \"res/botones.jpg\" en escala de grises.\n",
    "\n",
    "### Sugerencia, pruebe: 0 < parámetro1 < 25 & 25 < parámetro2 < 50"
   ]
  },
  {
   "cell_type": "code",
   "execution_count": null,
   "metadata": {},
   "outputs": [],
   "source": [
    "#Leer la imagen de entrada en escala de grises ≈ 1 linea\n",
    "\n",
    "####SU CODIGO AQUÍ#####\n",
    "img = None\n",
    "#####TERMINA SU CODIGO#####\n",
    "\n",
    "#Aplicar un filtro de mediana a la imagen con 5 iteraciones ≈ 1 linea\n",
    "\n",
    "####SU CODIGO AQUÍ#####\n",
    "img = None\n",
    "#####TERMINA SU CODIGO#####\n",
    "\n",
    "#Definir los parámetros de la transformada de Hough. parámetro1 < parámetro2  ≈ 2 lineas\n",
    "\n",
    "####SU CODIGO AQUÍ#####\n",
    "parámetro1 = None\n",
    "parámetro2 = None\n",
    "#####TERMINA SU CODIGO#####\n",
    "\n",
    "#Aplicar la Transformada de Hough para círculos\n",
    "#https://docs.opencv.org/3.4.2/dd/d1a/group__imgproc__feature.html#ga47849c3be0d0406ad3ca45db65a25d2d\n",
    "circles = cv2.HoughCircles(img,cv2.HOUGH_GRADIENT,1,20,\n",
    "                            param1=parametro1,param2=parametro2,minRadius=0,maxRadius=0)\n",
    "\n",
    "#Redondear y convertir a tipo de dato uint16, recuerde utilizar: np.uint16(...)\n",
    "\n",
    "####SU CODIGO AQUÍ#####\n",
    "circles = None\n",
    "#####TERMINA SU CODIGO#####\n",
    "\n",
    "#Dibujar los círculos recorriendo cada posición i del vector circles(0,:)\n",
    "for i in circles[0,:]:\n",
    "    # draw the outer circle\n",
    "    cv2.circle(cimg,(i[0],i[1]),i[2],(0,255,0),2)\n",
    "    # draw the center of the circle\n",
    "    cv2.circle(cimg,(i[0],i[1]),2,(0,0,255),3)\n",
    "    \n",
    "    #Dibujar la imagen original y los círculos detectados\n",
    "plt.title('circulos detectados')\n",
    "plt.imshow(cimg)"
   ]
  },
  {
   "cell_type": "markdown",
   "metadata": {},
   "source": [
    "## Salida esperada:\n",
    "\n",
    "<img src = \"res/hard.png\">"
   ]
  },
  {
   "cell_type": "markdown",
   "metadata": {},
   "source": [
    "## Detección de esquinas (El algoritmo Harris)\n",
    "\n",
    "A continuación, observaremos el algoritmo Harris en funcionamiento para encontrar las esquinas dentro de una imagen.\n",
    "\n",
    "Lea la imagen \"res/chess.jpg\" en escala de grises con tipo de dato float32, posteriormente cree un kernel cuyas componentes únicamente son 1, de tamaño 7x7.\n",
    "\n",
    "Documentación disponible en:\n",
    "\n",
    "https://docs.opencv.org/3.0-beta/doc/py_tutorials/py_feature2d/py_features_harris/py_features_harris.html"
   ]
  },
  {
   "cell_type": "code",
   "execution_count": null,
   "metadata": {},
   "outputs": [],
   "source": [
    "# Cargar la imagen en escala de grises con tipo de dato float32 ≈ 1 linea\n",
    "\n",
    "####SU CODIGO AQUÍ#####\n",
    "gray = None\n",
    "#####TERMINA SU CODIGO#####\n",
    "\n",
    "### Apply cornerHarris function\n",
    "harris_corners = cv2.cornerHarris(gray, 3, 3, 0.05)\n",
    "\n",
    "#We use dilation of the corner points to enlarge them\\\n",
    "\n",
    "#Crear el kernel (matriz de 1 (unos)), de tamaño 7x7 y tipo de dato uint8 ≈ 1 linea\n",
    "\n",
    "####SU CODIGO AQUÍ#####\n",
    "kernel = None\n",
    "#####TERMINA SU CODIGO#####\n",
    "\n",
    "harris_corners = cv2.dilate(harris_corners, kernel, iterations = 2)\n",
    "\n",
    "# Threshold for an optimal value, it may vary depending on the image.\n",
    "image[harris_corners > 0.025 * harris_corners.max() ] = [255, 127, 127]\n",
    "\n",
    "#Generar un subplot 1x2 y mostrar imagen junto a segmentación por K-means\n",
    "fig, ax = plt.subplots(1,2, figsize=(16, 5))\n",
    "\n",
    "ax[0].set_title('Imagen')\n",
    "ax[0].imshow(gray, cmap='gray')\n",
    "ax[1].set_title('Identificación de esquinas')\n",
    "ax[1].imshow(image)"
   ]
  },
  {
   "cell_type": "markdown",
   "metadata": {},
   "source": [
    "## Salida esperada:\n",
    "\n",
    "<img src = \"res/corner.png\">"
   ]
  },
  {
   "cell_type": "markdown",
   "metadata": {},
   "source": [
    "## 5.\n",
    "\n",
    "## Segmentación por Umbralización\n",
    "\n",
    "Lea la imagen \"res/botones.jpg\" en escala de grises."
   ]
  },
  {
   "cell_type": "code",
   "execution_count": null,
   "metadata": {},
   "outputs": [],
   "source": [
    "#Leer la imagen de entrada con tipo de dato uint8 ≈ 1 linea\n",
    "\n",
    "####SU CODIGO AQUÍ#####\n",
    "img = None\n",
    "#####TERMINA SU CODIGO#####\n",
    "\n",
    "#Generar subplot 1x2  que muestre imagen e histograma\n",
    "fig, ax = plt.subplots(1,2, figsize=(15, 8))\n",
    "ax[0].set_title('Imagen Original')\n",
    "ax[0].imshow(img, cmap='gray')\n",
    "ax[1].set_title('Histograma')\n",
    "ax[1].hist(img);"
   ]
  },
  {
   "cell_type": "markdown",
   "metadata": {},
   "source": [
    "## Salida esperada: \n",
    "\n",
    "<img src = \"res/his.png\">"
   ]
  },
  {
   "cell_type": "markdown",
   "metadata": {},
   "source": [
    "Queremos separar los botones del fondo, recordemos a qué equivale el color Blanco(y los colores que se acercan a el por tener mucho brillo) en el espacio de color RGB, y a qué equivale el color negro.\n",
    "\n",
    "A continuación, vamos a binarizar la imagen.\n",
    "\n",
    "### ImagenBinarizada = ImagenEntrada > X\n",
    "\n",
    "Donde 0 < X < 255, esto permite discriminar rápidamente los píxeles basados en el histograma de la imagen."
   ]
  },
  {
   "cell_type": "code",
   "execution_count": null,
   "metadata": {},
   "outputs": [],
   "source": [
    "#Con base en su observación del histograma, discrimine y binarice. ≈ 1 linea\n",
    "\n",
    "####SU CODIGO AQUÍ#####\n",
    "binarizada = None\n",
    "#####TERMINA SU CODIGO#####\n",
    "\n",
    "#Mostrar la nueva imagen\n",
    "plt.imshow(binarizada, cmap=\"gray\")"
   ]
  },
  {
   "cell_type": "markdown",
   "metadata": {},
   "source": [
    "## Salida esperada (debe obtener un aproximado):\n",
    "\n",
    "<img src = \"res/aprox.png\">"
   ]
  },
  {
   "cell_type": "markdown",
   "metadata": {},
   "source": [
    "OpenCv ofrece distintos métodos para umbralizar por threshold, aprendamos a utilizar la función cv2.threshold."
   ]
  },
  {
   "cell_type": "code",
   "execution_count": null,
   "metadata": {},
   "outputs": [],
   "source": [
    "#Definir un valor mínimo para la umbralización con base en sus observaciones ≈ 1 linea\n",
    "\n",
    "####SU CODIGO AQUÍ#####\n",
    "val = None\n",
    "#####TERMINA SU CODIGO#####\n",
    "\n",
    "#Generar mediante la función threshold de cv2, las distintas aproximaciones que \n",
    "#se ofrecen en la figura anterior\n",
    "ret,thresh1 = cv2.threshold(img,val,255,cv2.THRESH_BINARY)\n",
    "ret,thresh2 = cv2.threshold(img,val,255,cv2.THRESH_BINARY_INV)\n",
    "ret,thresh3 = cv2.threshold(img,val,255,cv2.THRESH_TRUNC)\n",
    "ret,thresh4 = cv2.threshold(img,val,255,cv2.THRESH_TOZERO)\n",
    "ret,thresh5 = cv2.threshold(img,val,255,cv2.THRESH_TOZERO_INV)\n",
    "\n",
    "#Dar título a las imágenes y hacer una lista de éstas\n",
    "titles = ['Original Image','BINARY','BINARY_INV','TRUNC','TOZERO','TOZERO_INV']\n",
    "images = [img, thresh1, thresh2, thresh3, thresh4, thresh5]\n",
    "\n",
    "#Generar un subplot 2x3 que muestre todas las umbralizaciones y la imagen original\n",
    "fig, ax = plt.subplots(2,3, figsize=(15, 8))\n",
    "ax[0][0].set_title('Imagen Original')\n",
    "ax[0][0].imshow(img, cmap='gray')\n",
    "ax[0][1].set_title('BINARIO')\n",
    "ax[0][1].imshow(thresh1, cmap='gray')\n",
    "ax[0][2].set_title('BINARIO INVERSO')\n",
    "ax[0][2].imshow(thresh2, cmap='gray')\n",
    "ax[1][0].set_title('TRUNCADO')\n",
    "ax[1][0].imshow(thresh3, cmap='gray')\n",
    "ax[1][1].set_title('TOZERO')\n",
    "ax[1][1].imshow(thresh4, cmap='gray')\n",
    "ax[1][2].set_title('TOZERO_INV')\n",
    "ax[1][2].imshow(thresh5, cmap='gray')"
   ]
  },
  {
   "cell_type": "markdown",
   "metadata": {},
   "source": [
    "## Salida esperada (debe obtener un aproximado):\n",
    "\n",
    "<img src = \"res/umbral.png\">"
   ]
  },
  {
   "cell_type": "markdown",
   "metadata": {},
   "source": [
    "## ¿Con qué umbralización separaría usted los botones del fondo? ¿Por qué?"
   ]
  },
  {
   "cell_type": "markdown",
   "metadata": {},
   "source": [
    "### Espacio para responder la pregunta"
   ]
  },
  {
   "cell_type": "markdown",
   "metadata": {},
   "source": [
    "Ahora bien, en las notas puede revisarse que la umbralización no es exclusivamente binaria.\n",
    "\n",
    "A continuación, estudiaremos la Umbralización por Otsu.\n",
    "\n",
    "## Umbralización por Otsu\n",
    "\n",
    "Lea la imagen \"res/botones.jpg\" en escala de grises. Recuerde que Otsu es un tipo de umbralización adaptativo, no es sugerible utilizarlo si el histograma no permite separación (en este caso, hemos probado que nuestra imagen permite separación)"
   ]
  },
  {
   "cell_type": "code",
   "execution_count": null,
   "metadata": {},
   "outputs": [],
   "source": [
    "#Leer imagen de entrada en escala de grises ≈ 1 linea\n",
    "\n",
    "####SU CODIGO AQUÍ#####\n",
    "img = None\n",
    "#####TERMINA SU CODIGO#####\n",
    "\n",
    "#Aplicar filtro de mediana con 5 iteraciones ≈ 1 linea\n",
    "\n",
    "####SU CODIGO AQUÍ#####\n",
    "blurred = None\n",
    "#####TERMINA SU CODIGO#####\n",
    "\n",
    "#Realizar una umbralización Otsu y asignar valores entre 0 y 255≈ 1 linea\n",
    "\n",
    "####SU CODIGO AQUÍ#####\n",
    "ret1,th1 = None\n",
    "#####TERMINA SU CODIGO#####\n",
    "\n",
    "#Generar un subplot 1x3 que muestre imagen en gris, histograma y Umbralización Otsu\n",
    "fig, ax = plt.subplots(1,3, figsize=(16, 5))\n",
    "\n",
    "ax[0].set_title('Imagen en gris')\n",
    "ax[0].imshow(img, cmap='gray')\n",
    "ax[1].set_title('Histograma')\n",
    "ax[1].hist(blurred)\n",
    "ax[2].set_title('Otsu, umbral ' + str(ret1))\n",
    "ax[2].imshow(th1, cmap='gray')"
   ]
  },
  {
   "cell_type": "markdown",
   "metadata": {},
   "source": [
    "## Salida esperada:\n",
    "\n",
    "<img src = \"res/umbrals.png\">"
   ]
  },
  {
   "cell_type": "markdown",
   "metadata": {},
   "source": [
    "Se puede ver el umbral seleccionado por Otsu, a la vez, la segmentación total de las figuras."
   ]
  },
  {
   "cell_type": "markdown",
   "metadata": {},
   "source": [
    "Finalmente, la segmentación por K-Means o basada en regiones, es un tipo de segmentación más poderosa(Consultar en las notas)\n",
    "\n",
    "Lea la imagen \"res/cookies.png\" en RGB.\n",
    "\n",
    "No dude en experimentar con los valores de K, una sugerencia es empezar en K = 2 y aumentar de 1 en 1 hasta K = 10 o K = 20."
   ]
  },
  {
   "cell_type": "code",
   "execution_count": null,
   "metadata": {},
   "outputs": [],
   "source": [
    "#Leer imagen de entrada a color ≈ 1 linea\n",
    "\n",
    "####SU CODIGO AQUÍ#####\n",
    "img = None\n",
    "#####TERMINA SU CODIGO#####\n",
    "\n",
    "#Reorganizar la imagen de entrada y darle unidades flotantes\n",
    "Z = img.reshape((-1,3))\n",
    "Z = np.float32(Z)\n",
    "\n",
    "# definir criteria, number of clusters(K) and apply kmeans()\n",
    "criteria = (cv2.TERM_CRITERIA_EPS + cv2.TERM_CRITERIA_MAX_ITER, 10, 1.0)\n",
    "\n",
    "#Seleccione una K adecuada ≈ 1 linea\n",
    "\n",
    "####SU CODIGO AQUÍ##### \n",
    "K = None\n",
    "#####TERMINA SU CODIGO#####\n",
    "\n",
    "ret,label,center=cv2.kmeans(Z,K,None,criteria,10,cv2.KMEANS_RANDOM_CENTERS)\n",
    "\n",
    "#Volver a tipo de dato uint8 y mostrar la imagen\n",
    "center = np.uint8(center)\n",
    "res = center[label.flatten()]\n",
    "res2 = res.reshape((img.shape))\n",
    "\n",
    "#Generar un subplot 1x2 y mostrar imagen junto a segmentación por K-means\n",
    "fig, ax = plt.subplots(1,2, figsize=(16, 5))\n",
    "\n",
    "ax[0].set_title('Imagen')\n",
    "ax[0].imshow(img, cmap='gray')\n",
    "ax[1].set_title('Segmentación por K-Means')\n",
    "ax[1].imshow(res2, cmap='gray')"
   ]
  },
  {
   "cell_type": "markdown",
   "metadata": {},
   "source": [
    "## Salida esperada:\n",
    "\n",
    "<img src = \"res/cooks.png\">"
   ]
  },
  {
   "cell_type": "code",
   "execution_count": null,
   "metadata": {},
   "outputs": [],
   "source": []
  }
 ],
 "metadata": {
  "kernelspec": {
   "display_name": "Python 3",
   "language": "python",
   "name": "python3"
  },
  "language_info": {
   "codemirror_mode": {
    "name": "ipython",
    "version": 3
   },
   "file_extension": ".py",
   "mimetype": "text/x-python",
   "name": "python",
   "nbconvert_exporter": "python",
   "pygments_lexer": "ipython3",
   "version": "3.7.4"
  }
 },
 "nbformat": 4,
 "nbformat_minor": 2
}
