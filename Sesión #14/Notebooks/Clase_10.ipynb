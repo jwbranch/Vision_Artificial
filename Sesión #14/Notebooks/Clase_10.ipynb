{
 "cells": [
  {
   "cell_type": "markdown",
   "metadata": {},
   "source": [
    "<hr>\n",
    "Este material ha sido construido en conjunto con material suministrado por los profesores Pedro Atencio (Instituto Tecnológico Metropolitano), Carlos Mera (Instituto Tecnológico Metropolitano), Albeiro Espinosa y Diego Patiño (Universidad Nacional de Colombia, Sede Medellín); a ellos les damos crédito.\n",
    "<hr>"
   ]
  },
  {
   "cell_type": "markdown",
   "metadata": {},
   "source": [
    "#  <center> VISIÓN ARTIFICIAL </center>\n",
    "## Agenda del día\n",
    "\n",
    "\n",
    "### UNIDAD 11 - SELECCIÓN DE CARACTERÍSTICAS E INTRODUCCIÓN AL RECONOCIMIENTO DE PATRONES\n",
    "\n",
    "<ul>\n",
    "  <li>Repaso extracción</li>\n",
    "  <li>Selección de características</li>\n",
    "  <li>Introducción al reconocimiento de patrones</li>\n",
    "\n",
    "</ul>"
   ]
  },
  {
   "cell_type": "code",
   "execution_count": 1,
   "metadata": {
    "collapsed": true
   },
   "outputs": [],
   "source": [
    "#Lectura de librerías útiles\n",
    "%matplotlib inline\n",
    "\n",
    "import cv2\n",
    "import matplotlib.pyplot as plt\n",
    "import numpy as np\n",
    "import warnings\n",
    "from skimage import morphology\n",
    "from skimage.measure import label, regionprops\n",
    "import pandas as pd\n",
    "warnings.filterwarnings('ignore')\n",
    "\n",
    "#Definir funciones que agilizan la lectura de imágenes\n",
    "def img_read(filename, mode = 'color'):\n",
    "    if(mode == 'color'):   \n",
    "        return cv2.cvtColor(cv2.imread(filename),cv2.COLOR_BGR2RGB)\n",
    "    elif(mode=='grayscale' or mode=='greyscale' or mode == 'gray' or mode == 'grey'):\n",
    "        return cv2.imread(filename, cv2.IMREAD_GRAYSCALE)\n",
    "    else:\n",
    "        return None"
   ]
  },
  {
   "cell_type": "markdown",
   "metadata": {},
   "source": [
    "<img src = res/intro.png>"
   ]
  },
  {
   "cell_type": "markdown",
   "metadata": {},
   "source": [
    "En esta sesión haremos uso del conjunto de datos MNIST para ejemplificar las fases de extracción, selección y clasificación.\n",
    "\n",
    "Este conjunto de datos está conformado por 70.000 imágenes de dígitos del 0 al 9 escritos a mano. La tarea es, pues, clasificar los dígitos. \n",
    "\n",
    "<img src = res/digitos.png>\n",
    "\n",
    "# 1.0 REPASO DE SEGMENTACIÓN/EXTRACCIÓN DE CARACTERÍSTICAS\n",
    "\n",
    "A continuación, repasemos el proceso de extracción de características para los dígitos del conjunto de datos MNIST. Para esto, hacemos uso de la librería Keras, la cual tiene el conjunto listo para ser utilizado.\n",
    "\n",
    "Keras devuelve los datos en forma de un conjunto de entrenamiento  (x_train, y_train) de 70000 entradas donde cada entrada de entrenamiento $x_i$ es una matriz conformada por 28x28 píxeles, y cada etiqueta de entrenamiento $y_i$ es un número del 0 al 9 indicando la clase de la entrada correspondiente.\n",
    "\n",
    "El conjunto de prueba (x_test, y_test) se puede describir de la misma forma, con la salvedad de que está conformado por 10000 entradas."
   ]
  },
  {
   "cell_type": "code",
   "execution_count": 2,
   "metadata": {},
   "outputs": [
    {
     "name": "stderr",
     "output_type": "stream",
     "text": [
      "Using TensorFlow backend.\n"
     ]
    },
    {
     "name": "stdout",
     "output_type": "stream",
     "text": [
      "Conjunto de entrenamiento:  (60000, 28, 28)\n",
      "Etiquetas de entrenamiento:  (60000,)\n"
     ]
    }
   ],
   "source": [
    "#Importar datasets preparados para trabajar\n",
    "from keras.datasets import mnist\n",
    "\n",
    "#Cargar el dataset, conjuntos de entrenamiento y pruebas\n",
    "(x_train, y_train), (x_test, y_test) = mnist.load_data()\n",
    "\n",
    "#Imprimir resultados de entrenamiento (labels)\n",
    "print(\"Conjunto de entrenamiento: \", x_train.shape)\n",
    "print(\"Etiquetas de entrenamiento: \", y_train.shape)"
   ]
  },
  {
   "cell_type": "code",
   "execution_count": 3,
   "metadata": {},
   "outputs": [
    {
     "name": "stdout",
     "output_type": "stream",
     "text": [
      "Conjunto de prueba:  (10000, 28, 28)\n",
      "Etiquetas de prueba:  (10000,)\n"
     ]
    }
   ],
   "source": [
    "print(\"Conjunto de prueba: \", x_test.shape)\n",
    "print(\"Etiquetas de prueba: \", y_test.shape)"
   ]
  },
  {
   "cell_type": "markdown",
   "metadata": {},
   "source": [
    "# 1.1 SEGMENTACIÓN\n",
    "\n",
    "Para este caso de estudio, la segmentación es trivial pero en todo caso necesaria. \n",
    "\n",
    "Examinemos una imagen del conjunto de entrenamiento:"
   ]
  },
  {
   "cell_type": "code",
   "execution_count": 4,
   "metadata": {},
   "outputs": [
    {
     "data": {
      "text/plain": [
       "<matplotlib.image.AxesImage at 0x1c1abc0dcf8>"
      ]
     },
     "execution_count": 4,
     "metadata": {},
     "output_type": "execute_result"
    },
    {
     "data": {
      "image/png": "[encoded data removed]",
      "text/plain": [
       "<Figure size 432x288 with 1 Axes>"
      ]
     },
     "metadata": {},
     "output_type": "display_data"
    }
   ],
   "source": [
    "#Mostrar una imagen del dataset de entrenamiento \n",
    "im = x_train[775]\n",
    "plt.imshow(im, cmap='gray')"
   ]
  },
  {
   "cell_type": "markdown",
   "metadata": {},
   "source": [
    "Los gradientes de intensidad en los bordes de la imagen no contienen información que nos sea demasiado útil para trabajar con las imágenes. Por este motivo, aplicamos una umbralización simple de manera que podamos extraer características a partir de la máscara binaria."
   ]
  },
  {
   "cell_type": "code",
   "execution_count": 5,
   "metadata": {
    "collapsed": true
   },
   "outputs": [],
   "source": [
    "#Extraer máscara binaria de todos los elementos de entrenamiento y pruebas\n",
    "\n",
    "for i in range(len(x_train)):\n",
    "    x_train[i][x_train[i]>0.1] = 1\n",
    "    x_train[i][x_train[i]<=0.1] = 0\n",
    "\n",
    "for i in range(len(x_test)):\n",
    "    x_test[i][x_test[i]>0.1] = 1\n",
    "    x_test[i][x_test[i]<=0.1] = 0  "
   ]
  },
  {
   "cell_type": "code",
   "execution_count": 22,
   "metadata": {},
   "outputs": [
    {
     "data": {
      "text/plain": [
       "<matplotlib.image.AxesImage at 0x1c7dd75a6a0>"
      ]
     },
     "execution_count": 22,
     "metadata": {},
     "output_type": "execute_result"
    },
    {
     "data": {
      "image/png": "[encoded data removed]",
      "text/plain": [
       "<Figure size 432x288 with 1 Axes>"
      ]
     },
     "metadata": {},
     "output_type": "display_data"
    }
   ],
   "source": [
    "plt.imshow(x_train[775], cmap='gray')"
   ]
  },
  {
   "cell_type": "markdown",
   "metadata": {},
   "source": [
    "# 1.2 MORFOLOGÍA\n",
    "\n",
    "Como vemos arriba, algunas de las imágenes resultantes tienen componentes que no son de interés. De manera empírica definimos eliminar los componentes que no son de interés mediante la operación <i>remove small objects</i> de la librería scikit-image.\n",
    "\n",
    "En algunas imágenes de ceros, el círculo no está cerrado completamente, sin embargo, decidimos no implementar funciones de morfología para corregir dichos errores puesto que esto puede incidir negativamente en imágenes donde los huecos sean pequeños."
   ]
  },
  {
   "cell_type": "code",
   "execution_count": 6,
   "metadata": {},
   "outputs": [
    {
     "data": {
      "text/plain": [
       "<matplotlib.image.AxesImage at 0x1c1abcb1198>"
      ]
     },
     "execution_count": 6,
     "metadata": {},
     "output_type": "execute_result"
    },
    {
     "data": {
      "image/png": "[encoded data removed]",
      "text/plain": [
       "<Figure size 432x288 with 1 Axes>"
      ]
     },
     "metadata": {},
     "output_type": "display_data"
    }
   ],
   "source": [
    "#Aplicar remoción de objetos pequeños sobre las imágenes binarias\n",
    "img = x_train[775]\n",
    "img *= morphology.remove_small_objects(img.astype(bool), min_size = 50)\n",
    "plt.imshow(img, cmap = 'gray')"
   ]
  },
  {
   "cell_type": "markdown",
   "metadata": {},
   "source": [
    "# 1.3 EXTRACCIÓN DE CARACTERÍSTICAS\n",
    "\n",
    "Ya que el conjunto de imágenes MNIST no contiene información de color o textura que nos sea de utilidad, nos centraremos en el uso de descriptores de forma y topología."
   ]
  },
  {
   "cell_type": "markdown",
   "metadata": {},
   "source": [
    "## 1.3.1 MOMENTOS DE HU\n",
    "\n",
    "Como se vio en la sesión anterior, los momentos de Hu son los momentos más útiles para tareas de clasificación al ser invariantes al tamaño, la rotación y la traslación. \n",
    "\n",
    "Adicionalmente, tomamos el logaritmo de los mismos para garantizar que se mantengan en un rango de valores razonable."
   ]
  },
  {
   "cell_type": "code",
   "execution_count": 7,
   "metadata": {
    "collapsed": true
   },
   "outputs": [],
   "source": [
    "#definir función que extrae los momentos\n",
    "\n",
    "def get_moments_hu(props, features):\n",
    "    moments_hu = props.moments_hu\n",
    "    moments_hu = np.sign(moments_hu) * np.log(np.abs(moments_hu))\n",
    "    features['hu0'] = moments_hu[0]\n",
    "    features['hu1'] = moments_hu[1]\n",
    "    features['hu2'] = moments_hu[2]\n",
    "    features['hu3'] = moments_hu[3]\n",
    "    features['hu4'] = moments_hu[4]\n",
    "    features['hu5'] = moments_hu[5]\n",
    "    features['hu6'] = moments_hu[6]\n",
    "    return features"
   ]
  },
  {
   "cell_type": "markdown",
   "metadata": {},
   "source": [
    "## 1.3.2 CARACTERÍSTICAS TOPOLÓGICAS\n",
    "\n",
    "Entre las características topológicas, la de mayor interés es el número de euler (1 - la cantidad de huecos en el objeto). Decidimos no usar el número de huecos, ya que está correlacionado con el número de huecos."
   ]
  },
  {
   "cell_type": "code",
   "execution_count": 8,
   "metadata": {
    "collapsed": true
   },
   "outputs": [],
   "source": [
    "#obtener propiedades topológicas de la imagen\n",
    "\n",
    "def get_features_topological(props, features):\n",
    "    features['euler_num'] = props.euler_number\n",
    "    return features\n"
   ]
  },
  {
   "cell_type": "markdown",
   "metadata": {},
   "source": [
    "## 1.3.3 CARACTERÍSTICAS DE FORMA\n",
    "\n"
   ]
  },
  {
   "cell_type": "code",
   "execution_count": 9,
   "metadata": {
    "collapsed": true
   },
   "outputs": [],
   "source": [
    "#función de características de forma\n",
    "\n",
    "def get_features_area(props, features):\n",
    "    \n",
    "    features['orientation'] = props.orientation\n",
    "    features['area_to_convex_ratio'] = props.area/props.convex_area\n",
    "    features['compacity'] = props.perimeter**2/props.area\n",
    "    features['roundness'] = 4*math.pi*props.area /(props.perimeter**2)\n",
    "    #print(i)\n",
    "    features['area_perimeter_ratio'] = props.area / props.perimeter\n",
    "    features['elongation'] = props.major_axis_length/props.minor_axis_length\n",
    "    features['solidity1'] = props.area/props.convex_area\n",
    "    features['solidity2'] = props.area / props.filled_area\n",
    "    return features"
   ]
  },
  {
   "cell_type": "markdown",
   "metadata": {},
   "source": [
    "# JUNTANDO LO ANTERIOR\n",
    "\n",
    "Combinamos lo anterior (excepto umbralización) en una sola función get_features en la que se aplicamos morfología y extracción de las características.\n",
    "\n",
    "Esta función de vuelve un diccionario de características <i>features</i> con las características extraidas de una imagen del conjunto de datos.\n",
    "\n"
   ]
  },
  {
   "cell_type": "code",
   "execution_count": null,
   "metadata": {
    "collapsed": true
   },
   "outputs": [],
   "source": [
    "#función que extrae características de una imagen\n",
    "\n",
    "def get_features(img):\n",
    "    features = {}\n",
    "    img *= morphology.remove_small_objects(img.astype(bool), min_size = 20)\n",
    "    label_img = label(img)\n",
    "    props = regionprops(label_img)[0]\n",
    "    features = get_moments_hu(props, features)\n",
    "    features = get_features_topological(props, features)\n",
    "    features = get_features_area(props, features)\n",
    "    return features\n",
    "\n",
    "features_0 = get_features(x_train[0])\n",
    "columns = list(features_0.keys())\n",
    "columns.append('class')\n",
    "\n",
    "#crear dataset de características de entrenamiento como dataframe de pandas\n",
    "df_train = pd.DataFrame(columns=columns)\n",
    "\n",
    "#extraer características de todas las imágenes de entrenamiento \n",
    "for i in range(len(x_train)):\n",
    "    features = get_features(x_train[i])\n",
    "    df_train.loc[i] = [features[feature] for feature in features.keys()]+[y_train[i]]"
   ]
  },
  {
   "cell_type": "code",
   "execution_count": null,
   "metadata": {
    "collapsed": true
   },
   "outputs": [],
   "source": [
    "#volverlo un csv\n",
    "df_train.to_csv('data_train.csv')"
   ]
  },
  {
   "cell_type": "code",
   "execution_count": 6,
   "metadata": {
    "collapsed": true
   },
   "outputs": [],
   "source": [
    "#leer el set como un dataframe de pandas\n",
    "df_train = pd.read_csv('data_train.csv')"
   ]
  },
  {
   "cell_type": "code",
   "execution_count": 7,
   "metadata": {},
   "outputs": [
    {
     "data": {
      "text/html": [
       "<div>\n",
       "<style>\n",
       "    .dataframe thead tr:only-child th {\n",
       "        text-align: right;\n",
       "    }\n",
       "\n",
       "    .dataframe thead th {\n",
       "        text-align: left;\n",
       "    }\n",
       "\n",
       "    .dataframe tbody tr th {\n",
       "        vertical-align: top;\n",
       "    }\n",
       "</style>\n",
       "<table border=\"1\" class=\"dataframe\">\n",
       "  <thead>\n",
       "    <tr style=\"text-align: right;\">\n",
       "      <th></th>\n",
       "      <th>Unnamed: 0</th>\n",
       "      <th>hu0</th>\n",
       "      <th>hu1</th>\n",
       "      <th>hu2</th>\n",
       "      <th>hu3</th>\n",
       "      <th>hu4</th>\n",
       "      <th>hu5</th>\n",
       "      <th>hu6</th>\n",
       "      <th>euler_num</th>\n",
       "      <th>orientation</th>\n",
       "      <th>area_to_convex_ratio</th>\n",
       "      <th>compacity</th>\n",
       "      <th>roundness</th>\n",
       "      <th>area_perimeter_ratio</th>\n",
       "      <th>elongation</th>\n",
       "      <th>solidity1</th>\n",
       "      <th>solidity2</th>\n",
       "      <th>class</th>\n",
       "    </tr>\n",
       "  </thead>\n",
       "  <tbody>\n",
       "    <tr>\n",
       "      <th>0</th>\n",
       "      <td>0</td>\n",
       "      <td>-1.030334</td>\n",
       "      <td>-3.382183</td>\n",
       "      <td>-5.921228</td>\n",
       "      <td>-7.284824</td>\n",
       "      <td>-14.569056</td>\n",
       "      <td>-9.615941</td>\n",
       "      <td>14.035736</td>\n",
       "      <td>1.0</td>\n",
       "      <td>1.255932</td>\n",
       "      <td>0.555184</td>\n",
       "      <td>51.040868</td>\n",
       "      <td>0.246202</td>\n",
       "      <td>1.803412</td>\n",
       "      <td>1.770921</td>\n",
       "      <td>0.555184</td>\n",
       "      <td>1.000000</td>\n",
       "      <td>5.0</td>\n",
       "    </tr>\n",
       "    <tr>\n",
       "      <th>1</th>\n",
       "      <td>1</td>\n",
       "      <td>-1.152595</td>\n",
       "      <td>-4.044950</td>\n",
       "      <td>-7.522026</td>\n",
       "      <td>-8.279011</td>\n",
       "      <td>18.609868</td>\n",
       "      <td>-10.516197</td>\n",
       "      <td>-16.183418</td>\n",
       "      <td>0.0</td>\n",
       "      <td>0.970673</td>\n",
       "      <td>0.676923</td>\n",
       "      <td>55.701218</td>\n",
       "      <td>0.225603</td>\n",
       "      <td>1.777559</td>\n",
       "      <td>1.562802</td>\n",
       "      <td>0.676923</td>\n",
       "      <td>0.709677</td>\n",
       "      <td>0.0</td>\n",
       "    </tr>\n",
       "    <tr>\n",
       "      <th>2</th>\n",
       "      <td>2</td>\n",
       "      <td>-0.658067</td>\n",
       "      <td>-3.536645</td>\n",
       "      <td>-2.466380</td>\n",
       "      <td>-5.307169</td>\n",
       "      <td>-9.844151</td>\n",
       "      <td>-7.455273</td>\n",
       "      <td>9.352959</td>\n",
       "      <td>1.0</td>\n",
       "      <td>-0.139524</td>\n",
       "      <td>0.404040</td>\n",
       "      <td>56.511648</td>\n",
       "      <td>0.222368</td>\n",
       "      <td>1.457208</td>\n",
       "      <td>1.408097</td>\n",
       "      <td>0.404040</td>\n",
       "      <td>1.000000</td>\n",
       "      <td>4.0</td>\n",
       "    </tr>\n",
       "    <tr>\n",
       "      <th>3</th>\n",
       "      <td>3</td>\n",
       "      <td>-0.769493</td>\n",
       "      <td>-1.684218</td>\n",
       "      <td>-6.996959</td>\n",
       "      <td>-8.666822</td>\n",
       "      <td>-17.579829</td>\n",
       "      <td>11.850399</td>\n",
       "      <td>16.559834</td>\n",
       "      <td>1.0</td>\n",
       "      <td>1.027102</td>\n",
       "      <td>0.800000</td>\n",
       "      <td>29.765909</td>\n",
       "      <td>0.422173</td>\n",
       "      <td>1.795875</td>\n",
       "      <td>5.249216</td>\n",
       "      <td>0.800000</td>\n",
       "      <td>1.000000</td>\n",
       "      <td>1.0</td>\n",
       "    </tr>\n",
       "    <tr>\n",
       "      <th>4</th>\n",
       "      <td>4</td>\n",
       "      <td>-1.262993</td>\n",
       "      <td>-4.296575</td>\n",
       "      <td>-4.179752</td>\n",
       "      <td>-6.115294</td>\n",
       "      <td>-11.306249</td>\n",
       "      <td>-8.477602</td>\n",
       "      <td>-12.506082</td>\n",
       "      <td>0.0</td>\n",
       "      <td>-1.520764</td>\n",
       "      <td>0.669811</td>\n",
       "      <td>45.941695</td>\n",
       "      <td>0.273529</td>\n",
       "      <td>1.758088</td>\n",
       "      <td>1.550739</td>\n",
       "      <td>0.669811</td>\n",
       "      <td>0.934211</td>\n",
       "      <td>9.0</td>\n",
       "    </tr>\n",
       "  </tbody>\n",
       "</table>\n",
       "</div>"
      ],
      "text/plain": [
       "   Unnamed: 0       hu0       hu1       hu2       hu3        hu4        hu5  \\\n",
       "0           0 -1.030334 -3.382183 -5.921228 -7.284824 -14.569056  -9.615941   \n",
       "1           1 -1.152595 -4.044950 -7.522026 -8.279011  18.609868 -10.516197   \n",
       "2           2 -0.658067 -3.536645 -2.466380 -5.307169  -9.844151  -7.455273   \n",
       "3           3 -0.769493 -1.684218 -6.996959 -8.666822 -17.579829  11.850399   \n",
       "4           4 -1.262993 -4.296575 -4.179752 -6.115294 -11.306249  -8.477602   \n",
       "\n",
       "         hu6  euler_num  orientation  area_to_convex_ratio  compacity  \\\n",
       "0  14.035736        1.0     1.255932              0.555184  51.040868   \n",
       "1 -16.183418        0.0     0.970673              0.676923  55.701218   \n",
       "2   9.352959        1.0    -0.139524              0.404040  56.511648   \n",
       "3  16.559834        1.0     1.027102              0.800000  29.765909   \n",
       "4 -12.506082        0.0    -1.520764              0.669811  45.941695   \n",
       "\n",
       "   roundness  area_perimeter_ratio  elongation  solidity1  solidity2  class  \n",
       "0   0.246202              1.803412    1.770921   0.555184   1.000000    5.0  \n",
       "1   0.225603              1.777559    1.562802   0.676923   0.709677    0.0  \n",
       "2   0.222368              1.457208    1.408097   0.404040   1.000000    4.0  \n",
       "3   0.422173              1.795875    5.249216   0.800000   1.000000    1.0  \n",
       "4   0.273529              1.758088    1.550739   0.669811   0.934211    9.0  "
      ]
     },
     "execution_count": 7,
     "metadata": {},
     "output_type": "execute_result"
    }
   ],
   "source": [
    "#mostrar los primeros ID del dataset\n",
    "df_train.head()"
   ]
  },
  {
   "cell_type": "code",
   "execution_count": null,
   "metadata": {
    "collapsed": true
   },
   "outputs": [],
   "source": [
    "#extraer la parte del dataset que corresponde a pruebas\n",
    "df_test = pd.DataFrame(columns=columns)\n",
    "\n",
    "#obtener las características de las imágenes de prueba\n",
    "for i in range(len(x_test)):\n",
    "    features = get_features(x_test[i])\n",
    "    df_test.loc[i] = [features[feature] for feature in features.keys()]+[y_test[i]]\n",
    "    "
   ]
  },
  {
   "cell_type": "code",
   "execution_count": null,
   "metadata": {
    "collapsed": true
   },
   "outputs": [],
   "source": [
    "#guardar como csv\n",
    "df_test.to_csv('data_test.csv')"
   ]
  },
  {
   "cell_type": "code",
   "execution_count": 8,
   "metadata": {
    "collapsed": true
   },
   "outputs": [],
   "source": [
    "#leer el csv\n",
    "df_test = pd.read_csv('data_test.csv')"
   ]
  },
  {
   "cell_type": "markdown",
   "metadata": {},
   "source": [
    "# 2.0 SELECCIÓN DE CARACTERÍSTICAS\n",
    "\n",
    "El problema de selección de características puede entenderse como una instancia del problema de la mochila."
   ]
  },
  {
   "cell_type": "markdown",
   "metadata": {},
   "source": [
    "<img src = res/pesos.png>"
   ]
  },
  {
   "cell_type": "markdown",
   "metadata": {},
   "source": [
    "# 2.1. ENFOQUES ESTADÍSTICOS\n",
    "\n",
    "Se le asigna un puntaje estadístico a cada característica con base en una medición estadística, por ejemplo:\n",
    "\n",
    "- Varianza $\\sigma^2$\n",
    "- Chi-Cuadrado $\\chi^2$\n",
    "- Anova.\n",
    "- Entropia.\n",
    "- etc.\n",
    "\n",
    "Para ejemplificar los conceptos de selección de características, utilizaremos algunos casos más sencillos...\n",
    "\n",
    "## 2.1.1. SELECCIÓN DE CARACTERÍSTICAS POR VARIANZA"
   ]
  },
  {
   "cell_type": "code",
   "execution_count": 1,
   "metadata": {},
   "outputs": [
    {
     "name": "stdout",
     "output_type": "stream",
     "text": [
      "Original features:  [[0 0 1]\n",
      " [0 1 0]\n",
      " [1 0 0]\n",
      " [0 1 1]\n",
      " [0 1 0]\n",
      " [0 1 1]]\n",
      "Selected features:  [[0 1]\n",
      " [1 0]\n",
      " [0 0]\n",
      " [1 1]\n",
      " [1 0]\n",
      " [1 1]]\n"
     ]
    }
   ],
   "source": [
    "import numpy as np\n",
    "from sklearn.feature_selection import VarianceThreshold\n",
    "\n",
    "#crear una array de numpy\n",
    "X = np.array([[0, 0, 1], [0, 1, 0], [1, 0, 0], [0, 1, 1], [0, 1, 0], [0, 1, 1]])\n",
    "\n",
    "#aplicar selector de características por varianza\n",
    "selector = VarianceThreshold(threshold=0.2)\n",
    "X_new = selector.fit_transform(X)\n",
    "print(\"Original features: \",X)\n",
    "print(\"Selected features: \",X_new)"
   ]
  },
  {
   "cell_type": "code",
   "execution_count": 3,
   "metadata": {},
   "outputs": [
    {
     "name": "stdout",
     "output_type": "stream",
     "text": [
      "╒═════════════╤═════════════╤═════════════╤═════════════╕\n",
      "│   feature 1 │   feature 2 │   feature 3 │   feature 4 │\n",
      "╞═════════════╪═════════════╪═════════════╪═════════════╡\n",
      "│         5.1 │         3.5 │         1.4 │         0.2 │\n",
      "├─────────────┼─────────────┼─────────────┼─────────────┤\n",
      "│         4.9 │         3   │         1.4 │         0.2 │\n",
      "├─────────────┼─────────────┼─────────────┼─────────────┤\n",
      "│         4.7 │         3.2 │         1.3 │         0.2 │\n",
      "├─────────────┼─────────────┼─────────────┼─────────────┤\n",
      "│         4.6 │         3.1 │         1.5 │         0.2 │\n",
      "├─────────────┼─────────────┼─────────────┼─────────────┤\n",
      "│         5   │         3.6 │         1.4 │         0.2 │\n",
      "╘═════════════╧═════════════╧═════════════╧═════════════╛\n"
     ]
    }
   ],
   "source": [
    "from sklearn.datasets import load_iris\n",
    "from tabulate import tabulate\n",
    "\n",
    "#cargar un dataset de iris\n",
    "iris = load_iris()\n",
    "\n",
    "#extraer las características del dataset escogido\n",
    "X, y = iris.data, iris.target\n",
    "#imprimir una tabla\n",
    "headers = [\"feature 1\", \"feature 2\", \"feature 3\", \"feature 4\"]\n",
    "table = tabulate(X[0:5,:], headers, tablefmt=\"fancy_grid\")\n",
    "print(table)"
   ]
  },
  {
   "cell_type": "code",
   "execution_count": 5,
   "metadata": {},
   "outputs": [
    {
     "name": "stdout",
     "output_type": "stream",
     "text": [
      "Features selected:  [0 2]\n",
      "[ True False  True False]\n"
     ]
    }
   ],
   "source": [
    "selector = VarianceThreshold(threshold=0.6) #selección de características\n",
    "X_new = selector.fit_transform(X)\n",
    "\n",
    "sel_features = np.squeeze(np.where(selector.get_support()==True)) #Cuando es verdad la selección?\n",
    "\n",
    "#mostrar características seleccionadas\n",
    "print(\"Features selected: \", sel_features)\n",
    "print(selector.get_support())"
   ]
  },
  {
   "cell_type": "code",
   "execution_count": 5,
   "metadata": {},
   "outputs": [
    {
     "name": "stdout",
     "output_type": "stream",
     "text": [
      "╒═════════════╤═════════════╕\n",
      "│   feature 1 │   feature 3 │\n",
      "╞═════════════╪═════════════╡\n",
      "│         5.1 │         1.4 │\n",
      "├─────────────┼─────────────┤\n",
      "│         4.9 │         1.4 │\n",
      "├─────────────┼─────────────┤\n",
      "│         4.7 │         1.3 │\n",
      "├─────────────┼─────────────┤\n",
      "│         4.6 │         1.5 │\n",
      "├─────────────┼─────────────┤\n",
      "│         5   │         1.4 │\n",
      "╘═════════════╧═════════════╛\n"
     ]
    }
   ],
   "source": [
    "#imprimir las características seleccionadas como tablas\n",
    "headers = [\"feature \"+str(i+1) for i in sel_features]\n",
    "table = tabulate(X_new[0:5,], headers, tablefmt=\"fancy_grid\")\n",
    "print(table)"
   ]
  },
  {
   "cell_type": "code",
   "execution_count": 6,
   "metadata": {},
   "outputs": [
    {
     "data": {
      "image/png": "[encoded data removed]",
      "text/plain": [
       "<Figure size 360x360 with 1 Axes>"
      ]
     },
     "metadata": {
      "needs_background": "light"
     },
     "output_type": "display_data"
    }
   ],
   "source": [
    "import matplotlib.pyplot as plt\n",
    "\n",
    "#Realizar la impresión de la característica 1 vs la característica 3 escogidas\n",
    "colors = ['navy', 'turquoise', 'darkorange']\n",
    "\n",
    "target_names = iris.target_names\n",
    "\n",
    "color = [colors[i] for i in y]\n",
    "label = [target_names[i] for i in y]\n",
    "\n",
    "plt.figure(figsize=(5,5))\n",
    "plt.title(\"Selected features using Variance Threshold\")\n",
    "\n",
    "plt.scatter(X_new[:, 0], X_new[:, 1], color=color)\n",
    "\n",
    "plt.xlabel(\"feature \"+str(sel_features[0]+1))\n",
    "plt.ylabel(\"feature \"+str(sel_features[1]+1))\n",
    "plt.show()"
   ]
  },
  {
   "cell_type": "markdown",
   "metadata": {},
   "source": [
    "## 2.1.2. SELECCIÓN POR PRUEBA ESTADÍSTICA $\\chi^2$\n",
    "\n",
    "Se pueden utilizar técnicas estadísticas como chi-cuadrado $\\chi^2$ para seleccionar características. Esta prueba responde la siguiente pregunta:<br/><br/>\n",
    "\n",
    "<center> <font size=5>¿Qué tan independientes son las variables de la respuesta? </font></center>\n",
    "\n",
    "Se busca el mayor aporte de información/mayor correlación con respecto a la variable de respuesta.\n",
    "\n",
    "<br>\n",
    "\n"
   ]
  },
  {
   "cell_type": "code",
   "execution_count": 6,
   "metadata": {},
   "outputs": [
    {
     "data": {
      "text/plain": [
       "array([2, 3], dtype=int64)"
      ]
     },
     "execution_count": 6,
     "metadata": {},
     "output_type": "execute_result"
    }
   ],
   "source": [
    "from sklearn.datasets import load_iris\n",
    "from sklearn.feature_selection import SelectKBest\n",
    "from sklearn.feature_selection import chi2\n",
    "import matplotlib.pyplot as plt\n",
    "\n",
    "#realizar una lectura del dataset de iris\n",
    "iris = load_iris()\n",
    "\n",
    "X, y = iris.data, iris.target\n",
    "\n",
    "k=2 #best 2 independets features\n",
    "\n",
    "#Utilizar como selector de características los K vecinos mejores\n",
    "selector = SelectKBest(score_func=chi2, k=2)\n",
    "\n",
    "X_new = selector.fit_transform(X, y)\n",
    "\n",
    "sel_features = np.squeeze(np.where(selector.get_support()==True)) #Where selection is True?\n",
    "\n",
    "sel_features"
   ]
  },
  {
   "cell_type": "code",
   "execution_count": 8,
   "metadata": {},
   "outputs": [
    {
     "data": {
      "image/png": "[encoded data removed]",
      "text/plain": [
       "<Figure size 360x360 with 1 Axes>"
      ]
     },
     "metadata": {
      "needs_background": "light"
     },
     "output_type": "display_data"
    }
   ],
   "source": [
    "#Imprimir features escogidos en forma gráfica\n",
    "colors = ['navy', 'turquoise', 'darkorange']\n",
    "\n",
    "target_names = iris.target_names\n",
    "\n",
    "color = [colors[i] for i in y]\n",
    "label = [target_names[i] for i in y]\n",
    "\n",
    "plt.figure(figsize=(5,5))\n",
    "plt.title(\"Selected features using Chi Squared Threshold\")\n",
    "\n",
    "plt.scatter(X_new[:, 0], X_new[:, 1], color=color)\n",
    "\n",
    "plt.xlabel(\"feature \"+str(sel_features[0]+1))\n",
    "plt.ylabel(\"feature \"+str(sel_features[1]+1))\n",
    "plt.show()"
   ]
  },
  {
   "cell_type": "markdown",
   "metadata": {},
   "source": [
    "# 3. WRAPPERS Y MODELOS EMBEBIDOS\n",
    "\n",
    "## 3.1. WRAPPERS\n",
    "\n",
    "Se utiliza un modelo predictivo para evaluar diferentes combinaciones de características a partir de un método de búsqueda. Por ejemplo: selección hacia adelante, selección hacia atrás, etc. Cuando un conjunto dado de combinaciones ha sido probado, se selecciona el mejor subconjunto de características.\n",
    "\n",
    "El método se ejecuta en k iteraciones de manera recursiva y el número de características es el definido por el usuario.\n",
    "\n",
    "<img src = res/wrapper.png>"
   ]
  },
  {
   "cell_type": "code",
   "execution_count": 9,
   "metadata": {
    "collapsed": true
   },
   "outputs": [],
   "source": [
    "from sklearn.datasets import load_digits\n",
    "from sklearn.feature_selection import RFE\n",
    "from sklearn.linear_model import LogisticRegression\n",
    "import matplotlib.pyplot as plt\n",
    "\n",
    "# Load the digits dataset\n",
    "digits = load_digits()\n",
    "X = digits.images.reshape((len(digits.images), -1))\n",
    "y = digits.target"
   ]
  },
  {
   "cell_type": "code",
   "execution_count": 10,
   "metadata": {},
   "outputs": [
    {
     "data": {
      "image/png": "[encoded data removed]",
      "text/plain": [
       "<Figure size 288x288 with 1 Axes>"
      ]
     },
     "metadata": {
      "needs_background": "light"
     },
     "output_type": "display_data"
    }
   ],
   "source": [
    "index = 234\n",
    "img = np.reshape(X[index,:], (8,8))\n",
    "label = y[index]\n",
    "# Plot pixel ranking\n",
    "plt.figure(figsize=(4,4))\n",
    "plt.imshow(img, cmap='gray')\n",
    "plt.title(\"A sample from digits dataset with label \"+str(label))\n",
    "plt.show()"
   ]
  },
  {
   "cell_type": "code",
   "execution_count": 11,
   "metadata": {},
   "outputs": [
    {
     "name": "stdout",
     "output_type": "stream",
     "text": [
      "[[33  1  1  1  1  1  1 24]\n",
      " [ 1  1 23 12  1  4  1 13]\n",
      " [22 11  1  5  1  1  1  1]\n",
      " [18  7  1  1  1 20  1 28]\n",
      " [32  1  8 17  1 25  1 31]\n",
      " [30  1  1  1  1  1  3 26]\n",
      " [27 15 16 14  1  1  1  1]\n",
      " [29 19 10  6 21  2  1  9]]\n"
     ]
    }
   ],
   "source": [
    "# Create the RFE object and rank each pixel\n",
    "model = LogisticRegression()\n",
    "rfe = RFE(estimator=model, n_features_to_select=32, step=1) #mejores 32 características\n",
    "rfe.fit(X, y)\n",
    "ranking = rfe.ranking_.reshape(digits.images[0].shape)\n",
    "print(ranking)"
   ]
  },
  {
   "cell_type": "code",
   "execution_count": 42,
   "metadata": {},
   "outputs": [
    {
     "data": {
      "image/png": "[encoded data removed]",
      "text/plain": [
       "<Figure size 432x432 with 2 Axes>"
      ]
     },
     "metadata": {
      "needs_background": "light"
     },
     "output_type": "display_data"
    }
   ],
   "source": [
    "#Plotear el ranking de pixeles, los menores valores son los mejores\n",
    "plt.figure(figsize=(6,6))\n",
    "plt.imshow(ranking, cmap=plt.cm.Blues)\n",
    "plt.colorbar()\n",
    "plt.title(\"Ranking of pixels with RFE - low is best\", fontsize=10)\n",
    "plt.show()"
   ]
  },
  {
   "cell_type": "markdown",
   "metadata": {},
   "source": [
    "## 3.2. MODELOS EMBEBIDOS\n",
    "\n",
    "Se hace uso del modelo predictivo para dos tareas al mismo tiempo: para evaluar el rendimiento del subconjunto y para **aprender** cual subconjunto es el mejor.\n",
    "\n",
    "Ejemplos: Regresiones con Penalización Lasso/Ridge, Arboles de Decisión.\n",
    "\n",
    "<img src = res/embebido.png>"
   ]
  },
  {
   "cell_type": "code",
   "execution_count": 43,
   "metadata": {
    "collapsed": true
   },
   "outputs": [],
   "source": [
    "from sklearn.ensemble import ExtraTreesClassifier\n",
    "from sklearn.datasets import load_digits\n",
    "from sklearn.feature_selection import SelectFromModel"
   ]
  },
  {
   "cell_type": "code",
   "execution_count": 14,
   "metadata": {},
   "outputs": [
    {
     "data": {
      "text/plain": [
       "ExtraTreesClassifier(bootstrap=False, class_weight=None, criterion='gini',\n",
       "           max_depth=None, max_features='auto', max_leaf_nodes=None,\n",
       "           min_impurity_decrease=0.0, min_impurity_split=None,\n",
       "           min_samples_leaf=1, min_samples_split=2,\n",
       "           min_weight_fraction_leaf=0.0, n_estimators=10, n_jobs=1,\n",
       "           oob_score=False, random_state=None, verbose=0, warm_start=False)"
      ]
     },
     "execution_count": 14,
     "metadata": {},
     "output_type": "execute_result"
    }
   ],
   "source": [
    "#load digits dataset\n",
    "digits = load_digits()\n",
    "X = digits.images.reshape((len(digits.images), -1))\n",
    "y = digits.target\n",
    "\n",
    "#train prediction model\n",
    "predictor = ExtraTreesClassifier()\n",
    "predictor.fit(X, y)"
   ]
  },
  {
   "cell_type": "code",
   "execution_count": 15,
   "metadata": {
    "collapsed": true
   },
   "outputs": [],
   "source": [
    "model = SelectFromModel(predictor, threshold=0.02, prefit=True)\n",
    "X_new = model.transform(X) #dataset with selected features"
   ]
  },
  {
   "cell_type": "code",
   "execution_count": 16,
   "metadata": {
    "collapsed": true
   },
   "outputs": [],
   "source": [
    "selection = model.get_support()\n",
    "selection_map = np.reshape(selection, (8,8))\n",
    "\n",
    "num_selected_features = np.count_nonzero(selection)"
   ]
  },
  {
   "cell_type": "code",
   "execution_count": 17,
   "metadata": {},
   "outputs": [
    {
     "data": {
      "image/png": "[encoded data removed]",
      "text/plain": [
       "<Figure size 432x432 with 1 Axes>"
      ]
     },
     "metadata": {
      "needs_background": "light"
     },
     "output_type": "display_data"
    }
   ],
   "source": [
    "# Plot pixel ranking\n",
    "plt.figure(figsize=(6,6))\n",
    "plt.imshow(selection_map, cmap='gray')\n",
    "plt.title(\"Selection of \"+str(num_selected_features)+\" most important features using SfM\", fontsize=10)\n",
    "plt.show()"
   ]
  },
  {
   "cell_type": "markdown",
   "metadata": {},
   "source": [
    "# 4. TRANSFORMACIONES PARA REDUCCIÓN\n",
    "\n",
    "La transformación de características consiste en obtener un conjunto de características G a partir de una transformación lineal o no-lineal de un conjunto de datos X.\n",
    "\n",
    "<img src = res/redu.png>\n"
   ]
  },
  {
   "cell_type": "markdown",
   "metadata": {},
   "source": [
    "## 4.1. ANÁLISIS DE COMPONENTES PRINCIPALES (PCA)\n",
    "\n",
    "Esta técnica consiste en proyectar un conjunto de datos sobre un hiperespacio compuesto por las dimensiones principales de los datos.\n",
    "\n",
    "¿Cuáles $\\lambda_i \\in V$ son mejores?\n",
    "\n",
    "<img src = res/pers.png>"
   ]
  },
  {
   "cell_type": "code",
   "execution_count": 33,
   "metadata": {},
   "outputs": [
    {
     "data": {
      "text/plain": [
       "Text(0.5, 0, '$f_2$')"
      ]
     },
     "execution_count": 33,
     "metadata": {},
     "output_type": "execute_result"
    },
    {
     "data": {
      "image/png": "[encoded data removed]",
      "text/plain": [
       "<Figure size 648x504 with 1 Axes>"
      ]
     },
     "metadata": {},
     "output_type": "display_data"
    }
   ],
   "source": [
    "#generate a test dataset\n",
    "%matplotlib inline\n",
    "import numpy as np\n",
    "import matplotlib.pyplot as plt\n",
    "from mpl_toolkits.mplot3d import Axes3D\n",
    "\n",
    "np.random.seed(4)\n",
    "m = 60\n",
    "w1, w2 = 0.1, 0.3\n",
    "noise = 0.1\n",
    "\n",
    "angles = np.random.rand(m) * 3 * np.pi / 2 - 0.5\n",
    "X = np.empty((m, 3))\n",
    "X[:, 0] = np.cos(angles) + np.sin(angles)/2 + noise * np.random.randn(m) / 2\n",
    "X[:, 1] = np.sin(angles) * 0.7 + noise * np.random.randn(m) / 2\n",
    "X[:, 2] = X[:, 0] * w1 + X[:, 1] * w2 + noise * np.random.randn(m)\n",
    "\n",
    "fig = plt.figure(figsize=(9,7))\n",
    "ax = fig.add_subplot(111, projection='3d')\n",
    "ax.scatter(X[:,0], X[:,1], X[:,2])\n",
    "\n",
    "ax.set_title(\"Input dataset\")\n",
    "ax.set_xlabel(r'$f_0$', fontsize=15)\n",
    "ax.set_ylabel(r'$f_1$', fontsize=15)\n",
    "ax.set_zlabel(r'$f_2$', fontsize=15)"
   ]
  },
  {
   "cell_type": "markdown",
   "metadata": {},
   "source": [
    "##  4.2. PCA USANDO DESCOMPOSICIÓN EN VALORES SINGULARES\n",
    "\n",
    "Los valores propios pueden ser extraidos usando una factorización de matrices. Por ejemplo, la descomposición en valores singulares, que se puede expresar como:\n",
    "\n",
    "\n",
    "\n",
    "$X = U \\cdot \\sum \\cdot V^T$\n",
    "\n",
    "Donde $V$ es la matriz que contiene los valores propios de $X$\n",
    "\n",
    "$\n",
    "\\mathbf{V} =\n",
    "\\begin{pmatrix}\n",
    "  \\mid & \\mid & & \\mid \\\\\n",
    "  \\mathbf{c_1} & \\mathbf{c_2} & \\cdots & \\mathbf{c_n} \\\\\n",
    "  \\mid & \\mid & & \\mid\n",
    "\\end{pmatrix}\n",
    "$"
   ]
  },
  {
   "cell_type": "code",
   "execution_count": 34,
   "metadata": {
    "collapsed": true
   },
   "outputs": [],
   "source": [
    "from numpy.linalg import svd\n",
    "\n",
    "# Apply Single Value Decomposition over X\n",
    "X_centered = X - X.mean(axis=0)\n",
    "U, s, Vt = svd(X_centered) "
   ]
  },
  {
   "cell_type": "code",
   "execution_count": 35,
   "metadata": {},
   "outputs": [
    {
     "name": "stdout",
     "output_type": "stream",
     "text": [
      "[[ 0.93636116  0.29854881  0.18465208]\n",
      " [-0.34027485  0.90119108  0.2684542 ]\n",
      " [-0.08626012 -0.31420255  0.94542898]]\n"
     ]
    }
   ],
   "source": [
    "print(Vt) #valores propios"
   ]
  },
  {
   "cell_type": "markdown",
   "metadata": {},
   "source": [
    "Una vez extraida $V$, podemos proyectar la matriz X sobre uno o más valores propios o componentes principales para reducir la dimensionalidad de X:\n",
    "\n",
    "$ X_{new} = X \\cdot V^{'} $"
   ]
  },
  {
   "cell_type": "code",
   "execution_count": 36,
   "metadata": {
    "collapsed": true
   },
   "outputs": [],
   "source": [
    "#Project X over first principal components\n",
    "\n",
    "V_prime = Vt.T[:, :2]\n",
    "X2D = np.dot(X_centered, V_prime)"
   ]
  },
  {
   "cell_type": "code",
   "execution_count": 39,
   "metadata": {},
   "outputs": [
    {
     "data": {
      "image/png": "[encoded data removed]",
      "text/plain": [
       "<Figure size 432x288 with 1 Axes>"
      ]
     },
     "metadata": {},
     "output_type": "display_data"
    }
   ],
   "source": [
    "plt.title(\"Reduced Dataset\")\n",
    "plt.scatter(X2D[:,0], X2D[:,1])\n",
    "#Puede ser interpretado como la sombra.\n",
    "plt.xlabel(r'$\\lambda^0$')\n",
    "plt.ylabel(r'$\\lambda^1$')\n",
    "plt.show()"
   ]
  },
  {
   "cell_type": "markdown",
   "metadata": {},
   "source": [
    "## 4.3. PCA USANDO SCIKIT-LEARN\n",
    "\n"
   ]
  },
  {
   "cell_type": "code",
   "execution_count": 40,
   "metadata": {
    "collapsed": true
   },
   "outputs": [],
   "source": [
    "from sklearn.decomposition import PCA\n",
    "\n",
    "#Aplicar PCA con 2 componentes sobre X\n",
    "pca = PCA(n_components = 2)\n",
    "X2D = pca.fit_transform(X)"
   ]
  },
  {
   "cell_type": "code",
   "execution_count": 41,
   "metadata": {},
   "outputs": [
    {
     "name": "stdout",
     "output_type": "stream",
     "text": [
      "First 2 components by SVD:  [[ 0.93636116  0.29854881  0.18465208]\n",
      " [-0.34027485  0.90119108  0.2684542 ]]\n",
      "First 2 components by Scikit:  [[-0.93636116 -0.29854881 -0.18465208]\n",
      " [ 0.34027485 -0.90119108 -0.2684542 ]]\n"
     ]
    }
   ],
   "source": [
    "print(\"First 2 components by SVD: \",Vt[:2])\n",
    "print(\"First 2 components by Scikit: \", pca.components_)"
   ]
  },
  {
   "cell_type": "markdown",
   "metadata": {},
   "source": [
    "Apliquemos PCA sobre el conjunto de datos Iris."
   ]
  },
  {
   "cell_type": "code",
   "execution_count": 42,
   "metadata": {
    "collapsed": true
   },
   "outputs": [],
   "source": [
    "iris = load_iris()\n",
    "X, y = iris.data, iris.target\n",
    "k=2 #Primeros 2 componentes principales\n",
    "\n",
    "#Aplicar PCA sobre X\n",
    "pca = PCA(n_components=k)\n",
    "X_new = pca.fit_transform(X)"
   ]
  },
  {
   "cell_type": "code",
   "execution_count": 43,
   "metadata": {},
   "outputs": [
    {
     "data": {
      "image/png": "[encoded data removed]",
      "text/plain": [
       "<Figure size 360x360 with 1 Axes>"
      ]
     },
     "metadata": {},
     "output_type": "display_data"
    }
   ],
   "source": [
    "#Imprimir los dos componentes principales \n",
    "colors = ['navy', 'turquoise', 'darkorange']\n",
    "\n",
    "target_names = iris.target_names\n",
    "\n",
    "color = [colors[i] for i in y]\n",
    "label = [target_names[i] for i in y]\n",
    "\n",
    "plt.figure(figsize=(5,5))\n",
    "plt.title(\"Iris dataset projection over first 2 PC\")\n",
    "\n",
    "plt.scatter(X_new[:, 0], X_new[:, 1], color=color)\n",
    "\n",
    "plt.xlabel(r'$\\lambda_0$', fontsize=15)\n",
    "plt.ylabel(r'$\\lambda_1$', fontsize=15)\n",
    "plt.show()"
   ]
  },
  {
   "cell_type": "markdown",
   "metadata": {},
   "source": [
    "<hr>\n",
    "\n",
    "## 4.4. PCA NO-LINEAL / KERNEL PCA\n",
    "\n",
    "En casos más complejos, podemos utilizar funciones matemáticas no-lineales o de kernel para realizar transformaciones complejas en los datos."
   ]
  },
  {
   "cell_type": "code",
   "execution_count": 44,
   "metadata": {
    "collapsed": true
   },
   "outputs": [],
   "source": [
    "from sklearn.datasets import make_circles"
   ]
  },
  {
   "cell_type": "code",
   "execution_count": 45,
   "metadata": {
    "collapsed": true
   },
   "outputs": [],
   "source": [
    "#Seleccionar la semilla\n",
    "np.random.seed(0)\n",
    "X, y = make_circles(n_samples=400, factor=.3, noise=.05)"
   ]
  },
  {
   "cell_type": "code",
   "execution_count": 46,
   "metadata": {},
   "outputs": [
    {
     "data": {
      "image/png": "[encoded data removed]",
      "text/plain": [
       "<Figure size 360x360 with 1 Axes>"
      ]
     },
     "metadata": {},
     "output_type": "display_data"
    }
   ],
   "source": [
    "#Imprimir los datos escogidos\n",
    "colors = ['navy', 'darkorange']\n",
    "\n",
    "target_names = iris.target_names\n",
    "\n",
    "color = [colors[i] for i in y]\n",
    "label = [target_names[i] for i in y]\n",
    "\n",
    "plt.figure(figsize=(5,5))\n",
    "plt.title(\"Circle dataset\")\n",
    "\n",
    "plt.scatter(X[:, 0], X[:, 1], color=color)\n",
    "\n",
    "plt.xlabel(r'$f_0$', fontsize=15)\n",
    "plt.ylabel(r'$f_1$', fontsize=15)\n",
    "plt.show()"
   ]
  },
  {
   "cell_type": "markdown",
   "metadata": {},
   "source": [
    "Evaluemos el resultado de un PCA simple."
   ]
  },
  {
   "cell_type": "code",
   "execution_count": 47,
   "metadata": {
    "collapsed": true
   },
   "outputs": [],
   "source": [
    "#Aplicar PCA sobre el set de datos\n",
    "pca = PCA(n_components=1)\n",
    "X_new = pca.fit_transform(X)"
   ]
  },
  {
   "cell_type": "code",
   "execution_count": 48,
   "metadata": {},
   "outputs": [
    {
     "data": {
      "image/png": "[encoded data removed]",
      "text/plain": [
       "<Figure size 360x360 with 1 Axes>"
      ]
     },
     "metadata": {},
     "output_type": "display_data"
    }
   ],
   "source": [
    "#Imprimirlo como una imagen 2D\n",
    "colors = ['navy', 'darkorange']\n",
    "\n",
    "target_names = iris.target_names\n",
    "\n",
    "color = [colors[i] for i in y]\n",
    "label = [target_names[i] for i in y]\n",
    "\n",
    "plt.figure(figsize=(5,5))\n",
    "plt.title(\"Circle dataset\")\n",
    "\n",
    "plt.scatter(np.linspace(0,len(X_new),len(X_new)), X_new, color=color)\n",
    "\n",
    "plt.ylabel(r'$\\lambda$', fontsize=15)\n",
    "plt.show()"
   ]
  },
  {
   "cell_type": "markdown",
   "metadata": {},
   "source": [
    "Ahora con Kernel PCA:"
   ]
  },
  {
   "cell_type": "code",
   "execution_count": 49,
   "metadata": {},
   "outputs": [
    {
     "data": {
      "image/png": "[encoded data removed]",
      "text/plain": [
       "<Figure size 360x360 with 1 Axes>"
      ]
     },
     "metadata": {},
     "output_type": "display_data"
    }
   ],
   "source": [
    "from sklearn.decomposition import KernelPCA\n",
    "\n",
    "#Aplicar un kernel PCA no lineal e imprimirlo\n",
    "kpca = KernelPCA(kernel=\"rbf\", fit_inverse_transform=True, gamma=10)\n",
    "X_kpca = kpca.fit_transform(X)\n",
    "\n",
    "colors = ['navy', 'darkorange']\n",
    "\n",
    "color = [colors[i] for i in y]\n",
    "\n",
    "plt.figure(figsize=(5,5))\n",
    "plt.title(\"Circle dataset\")\n",
    "\n",
    "plt.scatter(X_kpca[:, 0], X_kpca[:, 1], color=color)\n",
    "\n",
    "plt.xlabel(r'$\\lambda_0$', fontsize=15)\n",
    "plt.ylabel(r'$\\lambda_1$', fontsize=15)\n",
    "plt.show()"
   ]
  },
  {
   "cell_type": "markdown",
   "metadata": {},
   "source": [
    "## 4.5. OTRAS APLICACIONES DE PCA:\n",
    "\n",
    "En el siguiente enlace se presenta un ejemplo de aplicación de PCA para la reducción de características en imágenes de rostros:\n",
    "\n",
    "https://alceballosa.shinyapps.io/Trabajo3/"
   ]
  },
  {
   "cell_type": "markdown",
   "metadata": {},
   "source": [
    "#  5. INTRODUCCIÓN AL RECONOCIMIENTO DE PATRONES"
   ]
  },
  {
   "cell_type": "markdown",
   "metadata": {},
   "source": [
    "<img src = res/patron.png>"
   ]
  },
  {
   "cell_type": "markdown",
   "metadata": {},
   "source": [
    "El Reconocimiento de Patrones es la última etapa dentro de un sistema de visión artificial, en la que a partir de las características encontradas, los posibles objetos se clasifican en dos o más clases.\n",
    "\n",
    "<img src = res/neural.png>\n",
    "\n",
    "Clasificar (o reconocer) significa, en este contexto, asociar a clases (o prototipos) una serie de elementos (u objetos). Esta asociación se realiza en base a las características o propiedades de los objetos.\n"
   ]
  },
  {
   "cell_type": "markdown",
   "metadata": {},
   "source": [
    "<img src = res/ia.png>"
   ]
  },
  {
   "cell_type": "markdown",
   "metadata": {},
   "source": [
    "<img src = res/class.png>"
   ]
  },
  {
   "cell_type": "markdown",
   "metadata": {},
   "source": [
    "Importante: Si los descriptores elegidos son adecuados, objetos similares tendrán patrones próximos en el espacio de características.\n",
    "\n",
    "- Patrones que describen objetos de una misma clase, presentan características similares.\n",
    "- Patrones que describen objetos de diferentes clases presentan características diferenciadas.\n",
    "\n",
    "<img src = res/diff.png>"
   ]
  },
  {
   "cell_type": "markdown",
   "metadata": {},
   "source": [
    "#  5.1. TIPOS DE CLASIFICADOR\n",
    "\n",
    "\n",
    "Atendiendo a la información que se proporciona en el proceso de construcción del clasificador se puede hablar de dos tipos de clasificadores: supervisados y No supervisados:\n",
    "\n",
    "- Clasificadores NO Supervisados: sin la necesidad de ningún supervisor externo, el clasificador determina las clases que representan los datos de entrenamiento.\n",
    "\n",
    "- Clasificadores Supervisados: el conjunto de entrenamiento es dividido por el maestro en las diferentes clases ya conocidas en las que se desea clasificar, así el clasificador aprende las características que definen cada clase.\n",
    "\n",
    "Hoy nos centraremos en los clasificadores supervisados."
   ]
  },
  {
   "cell_type": "markdown",
   "metadata": {},
   "source": [
    "# 5.1.1. MODELO GENERAL DE UN CLASIFICADOR SUPERVISADO.\n",
    "\n",
    "Aplicar una función de predicción en una representación de las características de la imagen para obtener el resultado deseado\n",
    "\n",
    "<img src = res/supervisado.png>"
   ]
  },
  {
   "cell_type": "markdown",
   "metadata": {},
   "source": [
    "- Entrenamiento: dado un conjunto de ejemplos {(x1, y1), ..., (xn, yn)}, calcular la predicción de la función f, reduciendo al mínimo el error de predicción en el conjunto de entrenamiento.\n"
   ]
  },
  {
   "cell_type": "markdown",
   "metadata": {},
   "source": [
    "<img src = res/train.png>"
   ]
  },
  {
   "cell_type": "markdown",
   "metadata": {},
   "source": [
    "# 5.1.2. ALGUNOS CLASIFICADORES SUPERVISADOS\n",
    "\n",
    "Los métodos para clasificación supervisada son muy diversos. Entre ellos se encuentran:\n",
    "\n",
    "- Regresión Logística.\n",
    "- Clasificadores Bayesianos.\n",
    "- Máquinas de Soporte Vectorial.\n",
    "- Redes Neuronales.\n",
    "- Árboles de Decisión/Bosques Aleatorios.\n",
    "- K-Vecinos más cercanos. \n",
    "\n",
    "En el día de hoy nos centraremos en uno de los métodos más básicos: **regresión logística.** Antes, sin embargo, introduciremos algunos conceptos básicos con base en la regresión lineal. "
   ]
  },
  {
   "cell_type": "markdown",
   "metadata": {},
   "source": [
    "# 5.1.3. REGRESIÓN LINEAL\n",
    "\n",
    "La regresión lineal permite estimar una variable de respuesta continua a partir de un conjunto de variables (atributos o características) de entrada $x_i$, unos pesos $W_i$ y un sesgo/intercepto $b$.\n",
    "\n",
    "Se define de la siguiente manera para el dataset entero:\n",
    "\n",
    "## $a = W^{T}\\cdot x + b $\n",
    "\n",
    "Lo que equivale a:\n",
    "\n",
    "## $a = \\sum_{j=1}^n w_j x_j + b $\n",
    "\n",
    "\n",
    "Donde $a$ es el valor predicho, $x$ es el arreglo con las instancias de entrada y $W$ es el arreglo con los pesos asignados.\n",
    "\n",
    "$w_i$ es el peso asignado a la característica $x_i$, es decir, $n$ = número de características.\n",
    "\n",
    "Una posibilidad para definir la función de perdida es el error cuadrático medio:\n",
    "\n",
    "## $L = \\frac{1}{m} \\sum_{i=1}^m (y_i - a_i)^2 $"
   ]
  },
  {
   "cell_type": "markdown",
   "metadata": {},
   "source": [
    "### DETALLES DE IMPLEMENTACIÓN:\n",
    "\n",
    "* $X$ es una matriz de $n$ filas y $m$ columnas, donde $n$ es el número de atributos y $m$ es el número de instancias en el conjunto de datos.\n",
    "\n",
    "* $Y$ es un vector fila de 1 fila  y $m$ columnas."
   ]
  },
  {
   "cell_type": "code",
   "execution_count": 7,
   "metadata": {
    "collapsed": true
   },
   "outputs": [],
   "source": [
    "#Generar array X e Y\n",
    "\n",
    "X = np.array([[0.1087,  0.2698,  0.3765,  0.2146,  0.9155,  \n",
    "     0.0246,  0.0221,  0.8632,  0.6460,  0.2092,  \n",
    "     0.8567,  0.1591,  0.9647,  0.6231,  0.7460,  \n",
    "     0.3654,  0.3065,  0.6886,  0.4966,  0.2008,  \n",
    "     0.2618,  0.7607,  0.1563,  0.4424,  0.7731]])\n",
    "\n",
    "Y = np.array([[0.9519,  1.1237,  1.2360,  1.0526,  2.0743,\n",
    "     0.7906,  0.7603,  2.0533,  1.6887,  1.0563,\n",
    "     2.0991,  0.8953,  2.1917,  1.6266,  1.8508,\n",
    "     1.2828,  1.2283,  1.8722,  1.4657,  1.0418,\n",
    "     1.1097,  1.7826,  0.9711,  1.4267,  1.8248]])"
   ]
  },
  {
   "cell_type": "code",
   "execution_count": 8,
   "metadata": {},
   "outputs": [
    {
     "name": "stdout",
     "output_type": "stream",
     "text": [
      "(1, 25)\n",
      "(1, 25)\n"
     ]
    }
   ],
   "source": [
    "#Imprimir el tamaño de X e Y\n",
    "print(X.shape)\n",
    "print(Y.shape)"
   ]
  },
  {
   "cell_type": "code",
   "execution_count": 20,
   "metadata": {},
   "outputs": [
    {
     "data": {
      "text/plain": [
       "<matplotlib.collections.PathCollection at 0x28c031cdcf8>"
      ]
     },
     "execution_count": 20,
     "metadata": {},
     "output_type": "execute_result"
    },
    {
     "data": {
      "image/png": "[encoded data removed]",
      "text/plain": [
       "<Figure size 432x288 with 1 Axes>"
      ]
     },
     "metadata": {
      "needs_background": "light"
     },
     "output_type": "display_data"
    }
   ],
   "source": [
    "#Plotear con matplotlib X vs Y\n",
    "plt.scatter(X, Y)"
   ]
  },
  {
   "cell_type": "markdown",
   "metadata": {},
   "source": [
    "* W es un vector de pesos con la forma (n, 1), que puede ser inicializado en 0 o aleatoriamente."
   ]
  },
  {
   "cell_type": "code",
   "execution_count": 21,
   "metadata": {
    "collapsed": true
   },
   "outputs": [],
   "source": [
    "#Vectorizar el problema\n",
    "n = X.shape[0]\n",
    "m = X.shape[1]\n",
    "W = np.ones((n,1))\n",
    "b = 0"
   ]
  },
  {
   "cell_type": "code",
   "execution_count": 22,
   "metadata": {},
   "outputs": [
    {
     "name": "stdout",
     "output_type": "stream",
     "text": [
      "0.9454462316\n"
     ]
    },
    {
     "data": {
      "text/plain": [
       "[<matplotlib.lines.Line2D at 0x28c0323b400>]"
      ]
     },
     "execution_count": 22,
     "metadata": {},
     "output_type": "execute_result"
    },
    {
     "data": {
      "image/png": "[encoded data removed]",
      "text/plain": [
       "<Figure size 432x288 with 1 Axes>"
      ]
     },
     "metadata": {
      "needs_background": "light"
     },
     "output_type": "display_data"
    }
   ],
   "source": [
    "#Probemos a predecir a partir del vector de pesos inicial...\n",
    "\n",
    "A = np.dot(W.T, X) + b\n",
    "L = np.sum(np.power(Y-A,2))/m\n",
    "print(L)\n",
    "plt.scatter(X, Y)\n",
    "plt.plot(X[0], A[0], 'r-')\n"
   ]
  },
  {
   "cell_type": "markdown",
   "metadata": {},
   "source": [
    "# AJUSTANDO LOS PESOS MEDIANTE DESCENSO POR GRADIENTE\n",
    "\n",
    "Para obtener los pesos que minimicen el error aplicaremos la técnica iterativa conocida como descenso por gradiente.\n",
    "\n",
    "<img src = res/height.png>\n",
    "\n",
    "\n",
    "### REGLA DE ACTUALIZACIÓN DE PESOS:\n",
    "\n",
    "Actualizaremos los pesos y el intercepto a partir de la siguiente regla:\n",
    "\n",
    "$ W_{new} = W - \\rho \\Delta W $\n",
    "\n",
    "$ b_{new} = b - \\rho \\Delta b $\n",
    "\n",
    "Donde $\\rho$ es una tasa de aprendizaje que determina qué tanto modificaremos los pesos según el valor de $\\Delta W$.\n"
   ]
  },
  {
   "cell_type": "markdown",
   "metadata": {},
   "source": [
    "### CALCULO DE $\\Delta W$  y $\\Delta b$\n",
    "\n",
    "El cambio para un peso w está definido como la derivada parcial de la función de perdida $L$ con respecto a ese peso.\n",
    "\n",
    "### $ \\Delta w_j  = \\frac{ \\partial L }{\\partial w_j}  $\n",
    "\n",
    "Por regla de la cadena..\n",
    "### $\\frac{ \\partial L }{\\partial w_j}  = \\frac{\\partial a}{\\partial w_j} \\frac{\\partial L}{\\partial a} $ "
   ]
  },
  {
   "cell_type": "markdown",
   "metadata": {},
   "source": [
    "\n",
    "\n",
    "### $L = \\frac{1}{m}  \\sum_{i=1}^m (y_i - a_i)^2 $\n",
    "\n",
    "### $\\frac{ \\partial L }{ \\partial a} = - \\frac{2}{m} \\sum_{i=1}^m (y_i - a_i) $\n"
   ]
  },
  {
   "cell_type": "markdown",
   "metadata": {},
   "source": [
    "### $a = \\sum_{j=1}^n w_j x_j + b $\n",
    "\n",
    "### $\\frac{ \\partial a }{ \\partial w_j} = x_{i,j} $"
   ]
  },
  {
   "cell_type": "markdown",
   "metadata": {},
   "source": [
    "### $\\frac{ \\partial L }{\\partial w_j}  =  - \\frac{2}{m} \\sum_{i=1}^m (y_i - a_i)  x_{i,j} $\n",
    "\n",
    "### $\\frac{ \\partial L }{\\partial w_j}  =  - \\frac{2}{m} \\sum_{i=1}^m (y_i - a_i) x_{i,j} $\n",
    "\n",
    "Lo anterior puede reducirse aplicando algebra matricial a...\n",
    "\n",
    "### $\\frac{ \\partial L }{\\partial W}  =  - \\frac{2}{m}  (Y - A) \\cdot X^T $\n",
    "\n",
    "Y analogamente:\n",
    "\n",
    "### $\\frac{ \\partial L }{\\partial b}  =  - \\frac{2}{m} \\sum_{i=1}^m (y_i - a_i)  $"
   ]
  },
  {
   "cell_type": "markdown",
   "metadata": {},
   "source": [
    "Nota: En el código denotaremos a cada derivada parcial como $\\Delta denominador$"
   ]
  },
  {
   "cell_type": "code",
   "execution_count": 23,
   "metadata": {},
   "outputs": [
    {
     "name": "stdout",
     "output_type": "stream",
     "text": [
      "0.002087022798644724\n"
     ]
    },
    {
     "data": {
      "text/plain": [
       "[<matplotlib.lines.Line2D at 0x28c032a6208>]"
      ]
     },
     "execution_count": 23,
     "metadata": {},
     "output_type": "execute_result"
    },
    {
     "data": {
      "image/png": "[encoded data removed]",
      "text/plain": [
       "<Figure size 432x288 with 1 Axes>"
      ]
     },
     "metadata": {
      "needs_background": "light"
     },
     "output_type": "display_data"
    }
   ],
   "source": [
    "#Realizar un ajuste de pesos sobre la regresión lineal hasta encontrar la línea\n",
    "#que mejor se ajuste\n",
    "n = X.shape[0]\n",
    "m = X.shape[1]\n",
    "W = np.ones((n,1))\n",
    "b = 0\n",
    "#Learning_rate o alpha debe ser relativamente pequeño para asegurar la convergencia del método\n",
    "learning_rate = 0.001\n",
    "\n",
    "#Realizar 10000 iteraciones\n",
    "for i in range(10000):\n",
    "    A = np.dot(W.T, X) + b\n",
    "\n",
    "    \n",
    "    dW = -(2/m) * ( np.dot(Y - A, X.T ))\n",
    "\n",
    "    db = -(2/m) * np.sum( Y - A )\n",
    "    \n",
    "    W = W - learning_rate*dW\n",
    "    b = b - learning_rate*db\n",
    "\n",
    "    A = np.dot(W.T, X) + b\n",
    "    L = np.sum(np.power(Y-A,2))/m\n",
    "\n",
    "print(L)\n",
    "plt.scatter(X, Y)\n",
    "plt.plot(X[0], A[0], 'g-')  \n",
    "\n"
   ]
  },
  {
   "cell_type": "markdown",
   "metadata": {},
   "source": [
    "A continuación probemos el código desarrollado en el dataset de diabetes, y comparemos con la función implementada por Scikit-Learn..."
   ]
  },
  {
   "cell_type": "code",
   "execution_count": 24,
   "metadata": {},
   "outputs": [
    {
     "name": "stdout",
     "output_type": "stream",
     "text": [
      "2861.8790585051265\n",
      "[[  -8.91525621]\n",
      " [-238.58850321]\n",
      " [ 522.6125547 ]\n",
      " [ 323.30765395]\n",
      " [-553.58429862]\n",
      " [ 287.4195895 ]\n",
      " [  -5.66764824]\n",
      " [ 146.61082538]\n",
      " [ 662.37488184]\n",
      " [  68.50305127]]\n"
     ]
    }
   ],
   "source": [
    "from sklearn import datasets, linear_model\n",
    "from sklearn.metrics import mean_squared_error, r2_score\n",
    "\n",
    "# Load the diabetes dataset\n",
    "diabetes = datasets.load_diabetes()\n",
    "\n",
    "X = diabetes.data.T\n",
    "Y = diabetes.target.reshape(1,len(diabetes.target))\n",
    "n = X.shape[0]\n",
    "m = X.shape[1]\n",
    "W = np.ones((n,1))\n",
    "b = 0\n",
    "learning_rate = 0.3\n",
    "\n",
    "losses = []\n",
    "\n",
    "for i in range(100000):\n",
    "    A = np.dot(W.T, X) + b\n",
    "    dW = -(2/m) * ( np.dot(Y - A, X.T ))\n",
    "    db = -(2/m) * np.sum( Y - A )\n",
    "    \n",
    "    W = W - learning_rate*dW.T\n",
    "    b = b - learning_rate*db\n",
    "\n",
    "    A = np.dot(W.T, X) + b\n",
    "    L = np.sum(np.power(Y-A,2))/m\n",
    "    losses.append(L)\n",
    "print(L)\n",
    "print(W)\n"
   ]
  },
  {
   "cell_type": "code",
   "execution_count": 25,
   "metadata": {},
   "outputs": [
    {
     "data": {
      "text/plain": [
       "Text(0, 0.5, 'Perdida')"
      ]
     },
     "execution_count": 25,
     "metadata": {},
     "output_type": "execute_result"
    },
    {
     "data": {
      "image/png": "[encoded data removed]",
      "text/plain": [
       "<Figure size 432x288 with 1 Axes>"
      ]
     },
     "metadata": {
      "needs_background": "light"
     },
     "output_type": "display_data"
    }
   ],
   "source": [
    "fig = plt.figure()\n",
    "plt.plot(losses)\n",
    "fig.suptitle('Evolución de la perdida', fontsize=20)\n",
    "plt.xlabel('Iteración', fontsize=18)\n",
    "plt.ylabel('Perdida', fontsize=16)"
   ]
  },
  {
   "cell_type": "code",
   "execution_count": 28,
   "metadata": {
    "collapsed": true
   },
   "outputs": [],
   "source": [
    "from sklearn.linear_model import LinearRegression\n",
    "reg = LinearRegression().fit(X.T, Y[0])"
   ]
  },
  {
   "cell_type": "code",
   "execution_count": 30,
   "metadata": {},
   "outputs": [
    {
     "name": "stdout",
     "output_type": "stream",
     "text": [
      "2859.6903987680657\n",
      "[ -10.01219782 -239.81908937  519.83978679  324.39042769 -792.18416163\n",
      "  476.74583782  101.04457032  177.06417623  751.27932109   67.62538639]\n"
     ]
    }
   ],
   "source": [
    "A = reg.predict(X.T)\n",
    "L = np.sum(np.power(Y-A,2))/m\n",
    "print(L)\n",
    "print(reg.coef_)"
   ]
  },
  {
   "cell_type": "markdown",
   "metadata": {},
   "source": [
    "# 5.1.4. REGRESIÓN LOGÍSTICA\n",
    "\n",
    "La regresión logística se puede considerar una modificacón de la regresión lineal (modelo lineal generalizado). En este caso, en vez de predecir una variable de respuesta continua, se predice una variable de respuesta categórica, tal que:\n",
    "\n",
    "## $z =  W^{T}X + b $\n",
    "\n",
    "## $ a = \\sigma(z)$\n",
    "<br/>\n",
    "Donde...\n",
    "\n",
    "## $\\sigma(z) = \\frac{1}{1 + e^{-z}}$\n",
    "\n",
    "<br/>\n",
    "\n",
    "<img src = res/logistic.png>\n",
    "\n",
    "Debido a la forma de la función sigmoidea, los valores resultantes están entre 0 y 1, lo que la hace muy útil para la tarea de clasificación binaria.\n",
    "\n",
    "Considerando lo anterior se decide usar una función de perdida de entropía cruzada, definida como sigue para un conjunto de $m$ datos:\n",
    "\n",
    "## $L = \\frac{1}{m} \\cdot \\sum_{i=0}^{m-1} - y \\cdot log(a) - (1-y) \\cdot log(1- a)  $\n",
    "\n"
   ]
  },
  {
   "cell_type": "code",
   "execution_count": 31,
   "metadata": {
    "collapsed": true
   },
   "outputs": [],
   "source": [
    "df_train = pd.read_csv('data_train.csv')\n",
    "df_test = pd.read_csv('data_test.csv')\n",
    "df_train = df_train.drop(columns=['Unnamed: 0'])\n",
    "df_test =  df_test.drop(columns=['Unnamed: 0'])"
   ]
  },
  {
   "cell_type": "code",
   "execution_count": 32,
   "metadata": {
    "collapsed": true
   },
   "outputs": [],
   "source": [
    "df_train = df_train.loc[df_train['class'].isin([0.0,1.0])]\n",
    "df_train = df_train.dropna()\n",
    "df_test = df_test.loc[df_test['class'].isin([0.0,1.0])]\n",
    "df_test = df_test.dropna()"
   ]
  },
  {
   "cell_type": "code",
   "execution_count": 33,
   "metadata": {
    "collapsed": true
   },
   "outputs": [],
   "source": [
    "X_train = df_train.values[:,:-1]\n",
    "Y_train = df_train.values[:,-1]\n",
    "\n",
    "X_train = X_train.T\n",
    "Y_train = Y_train.reshape((1,len(Y_train)))\n",
    "\n",
    "X_test = df_test.values[:,:-1]\n",
    "Y_test = df_test.values[:,-1]\n",
    "\n",
    "X_test = X_test.T\n",
    "Y_test = Y_test.reshape((1,len(Y_test)))"
   ]
  },
  {
   "cell_type": "markdown",
   "metadata": {},
   "source": [
    "A continuación implementamos la regresión logística. La derivación correspondiente se encuentra en el pdf adjunto \"deriv_log.pdf\""
   ]
  },
  {
   "cell_type": "code",
   "execution_count": 34,
   "metadata": {
    "collapsed": true
   },
   "outputs": [],
   "source": [
    "n = X_train.shape[0]\n",
    "m = X_train.shape[1]\n",
    "W = np.ones((n,1))\n",
    "b = 0\n",
    "learning_rate = 0.01\n",
    "eps = 0.00000001\n",
    "losses = []\n",
    "\n",
    "Z = np.dot(W.T, X_train) + b\n",
    "A = 1/(1+np.exp(-Z))\n",
    "for i in range(100):\n",
    "\n",
    "    dW = np.dot(X_train, (A-Y_train).T)\n",
    "    db = np.sum(A-Y_train)\n",
    "    W = W - learning_rate*dW\n",
    "    b = b - learning_rate*db\n",
    "    Z = np.dot(W.T, X_train) + b\n",
    "    A = 1/(1+np.exp(-Z))  \n",
    "    L = -np.sum((Y_train*np.log(eps+A)+((1-Y_train)*np.log(eps+1-A))))/m    \n",
    "    losses.append(L)"
   ]
  },
  {
   "cell_type": "code",
   "execution_count": 35,
   "metadata": {},
   "outputs": [
    {
     "data": {
      "text/plain": [
       "Text(0, 0.5, 'Perdida')"
      ]
     },
     "execution_count": 35,
     "metadata": {},
     "output_type": "execute_result"
    },
    {
     "data": {
      "image/png": "[encoded data removed]",
      "text/plain": [
       "<Figure size 432x288 with 1 Axes>"
      ]
     },
     "metadata": {
      "needs_background": "light"
     },
     "output_type": "display_data"
    }
   ],
   "source": [
    "fig = plt.figure()\n",
    "plt.plot(losses)\n",
    "fig.suptitle('Evolución de la perdida', fontsize=20)\n",
    "plt.xlabel('Iteración', fontsize=18)\n",
    "plt.ylabel('Perdida', fontsize=16)\n"
   ]
  },
  {
   "cell_type": "code",
   "execution_count": 36,
   "metadata": {},
   "outputs": [
    {
     "name": "stdout",
     "output_type": "stream",
     "text": [
      "Peso relacionado con cada atributo: \n",
      "hu0 :\t 74.35513846592545\n",
      "hu1 :\t 1038.6388786017712\n",
      "hu2 :\t -393.3584126001554\n",
      "hu3 :\t -196.34661437062675\n",
      "hu4 :\t 10.330053384575091\n",
      "hu5 :\t 3.8661101685439396\n",
      "hu6 :\t 5.434274521279982\n",
      "euler_num :\t 696.5185867300253\n",
      "orientation :\t 39.760722096765974\n",
      "area_to_convex_ratio :\t 164.62862945651352\n",
      "compacity :\t -200.08403517744082\n",
      "roundness :\t 141.12774891558007\n",
      "area_perimeter_ratio :\t 107.82464736712399\n",
      "elongation :\t 2391.364714782896\n",
      "solidity1 :\t 164.62862945651352\n",
      "solidity2 :\t 300.39299340642833\n",
      "\n",
      "\n",
      "Casos mal clasificados sobre el conjunto de prueba:  16.0  de  2109\n"
     ]
    }
   ],
   "source": [
    "colnames = df_train.columns.values\n",
    "weights = W.T[0]\n",
    "print(\"Peso relacionado con cada atributo: \")\n",
    "for i in range(len(colnames)-1):\n",
    "    print(colnames[i],\":\\t\", weights[i])\n",
    "\n",
    "print(\"\\n\")\n",
    "    \n",
    "Z = np.dot(W.T, X_test) + b\n",
    "A = 1/(1+np.exp(-Z))  \n",
    "    \n",
    "A[A>0.5] = 1\n",
    "A[A<=0.5] = 0\n",
    "\n",
    "\n",
    "\n",
    "print(\"Casos mal clasificados sobre el conjunto de prueba: \", np.sum(np.abs(A-Y_test)), \" de \", Y_test.shape[1])"
   ]
  },
  {
   "cell_type": "code",
   "execution_count": 37,
   "metadata": {},
   "outputs": [
    {
     "data": {
      "text/plain": [
       "LogisticRegression(C=1.0, class_weight=None, dual=False, fit_intercept=True,\n",
       "          intercept_scaling=1, max_iter=100, multi_class='ovr', n_jobs=1,\n",
       "          penalty='l2', random_state=None, solver='liblinear', tol=0.0001,\n",
       "          verbose=0, warm_start=False)"
      ]
     },
     "execution_count": 37,
     "metadata": {},
     "output_type": "execute_result"
    }
   ],
   "source": [
    "from sklearn.linear_model import LogisticRegression\n",
    "\n",
    "\n",
    "model = LogisticRegression()\n",
    "model.fit(X_train.T, Y_train[0])"
   ]
  },
  {
   "cell_type": "code",
   "execution_count": 38,
   "metadata": {},
   "outputs": [
    {
     "name": "stdout",
     "output_type": "stream",
     "text": [
      "Peso relacionado con cada atributo: \n",
      "hu0 :\t 0.36934480361751515\n",
      "hu1 :\t 0.43585094092263454\n",
      "hu2 :\t 0.8916114087458277\n",
      "hu3 :\t -0.32069837409996854\n",
      "hu4 :\t 0.004518224688435866\n",
      "hu5 :\t 0.0004158442890665994\n",
      "hu6 :\t 0.009576086160127244\n",
      "euler_num :\t 4.394220001748462\n",
      "orientation :\t -0.17336646868145486\n",
      "area_to_convex_ratio :\t -0.8577207609407287\n",
      "compacity :\t -0.11430398080551557\n",
      "roundness :\t 0.4772465188562427\n",
      "area_perimeter_ratio :\t -0.8923692098817273\n",
      "elongation :\t 3.2353628942973405\n",
      "solidity1 :\t -0.8577207609407287\n",
      "solidity2 :\t 1.6499685120155527\n"
     ]
    }
   ],
   "source": [
    "colnames = df_train.columns.values\n",
    "weights = model.coef_[0]\n",
    "print(\"Peso relacionado con cada atributo: \")\n",
    "for i in range(len(colnames)-1):\n",
    "    print(colnames[i],\":\\t\", weights[i])"
   ]
  },
  {
   "cell_type": "code",
   "execution_count": 39,
   "metadata": {},
   "outputs": [
    {
     "name": "stdout",
     "output_type": "stream",
     "text": [
      "Casos mal clasificados sobre el conjunto de prueba:  4.0  de  2109\n"
     ]
    }
   ],
   "source": [
    "A = model.predict(X_test.T)\n",
    "print(\"Casos mal clasificados sobre el conjunto de prueba: \", np.sum(np.abs(A-Y_test)), \" de \", Y_test.shape[1])"
   ]
  },
  {
   "cell_type": "code",
   "execution_count": 41,
   "metadata": {},
   "outputs": [
    {
     "data": {
      "text/plain": [
       "array([[ 979,    3],\n",
       "       [   1, 1126]], dtype=int64)"
      ]
     },
     "execution_count": 41,
     "metadata": {},
     "output_type": "execute_result"
    }
   ],
   "source": [
    "from sklearn.metrics import confusion_matrix\n",
    "\n",
    "confusion_matrix(A,Y_test[0])"
   ]
  },
  {
   "cell_type": "code",
   "execution_count": null,
   "metadata": {
    "collapsed": true
   },
   "outputs": [],
   "source": []
  }
 ],
 "metadata": {
  "kernelspec": {
   "display_name": "Python 3",
   "language": "python",
   "name": "python3"
  },
  "language_info": {
   "codemirror_mode": {
    "name": "ipython",
    "version": 3
   },
   "file_extension": ".py",
   "mimetype": "text/x-python",
   "name": "python",
   "nbconvert_exporter": "python",
   "pygments_lexer": "ipython3",
   "version": "3.7.3"
  }
 },
 "nbformat": 4,
 "nbformat_minor": 2
}
