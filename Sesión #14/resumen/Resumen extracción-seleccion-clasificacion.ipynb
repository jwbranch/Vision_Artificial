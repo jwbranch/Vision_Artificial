{
 "cells": [
  {
   "cell_type": "markdown",
   "metadata": {},
   "source": [
    "#  <center> VISIÓN ARTIFICIAL </center>\n",
    "\n",
    "Introducción a la extracción de características, selección de características y clasificación."
   ]
  },
  {
   "cell_type": "code",
   "execution_count": 2,
   "metadata": {},
   "outputs": [],
   "source": [
    "# Paquete para la manipulación de datos provenientes de archivos excel o csv\n",
    "import pandas\n",
    "\n",
    "# Funciones para el entrenamiento de un modelo de clasificación (arbol de decisiones)\n",
    "from sklearn.model_selection import train_test_split  \n",
    "from sklearn.tree import DecisionTreeClassifier  \n",
    "from sklearn.metrics import confusion_matrix, precision_score"
   ]
  },
  {
   "cell_type": "markdown",
   "metadata": {},
   "source": [
    "El objetivo de un sistema de reconocimiento es reconocer objetos sobre una imagen, tomando el ejemplo de las etiquetas en neveras HACEB como sigue:\n",
    "\n",
    "<img src=\"res/1.jpg\" width=500>"
   ]
  },
  {
   "cell_type": "markdown",
   "metadata": {},
   "source": [
    "Queremos un sistema que dada la imagen anterior pueda marcar la presencia o ausencia de ambas etiquetas.\n",
    "Lo primero que se hace es la segmentación arrojando el siguiente resultado:\n",
    "\n",
    "<img src=\"res/segmentacion.png\" width=500>"
   ]
  },
  {
   "cell_type": "markdown",
   "metadata": {},
   "source": [
    "Sobre cada objeto segmentado se extraen algunas características como el alto, ancho, promedio de color en cada canal, para usar un modelo como el siguiente:\n",
    "\n",
    "<img src=\"res/modelo.png\" width=500>"
   ]
  },
  {
   "cell_type": "markdown",
   "metadata": {},
   "source": [
    "Así entonces queremos construir un modelo como el anterior para poder categorizar objetos en una imagen dadas algunas medidas numéricas. Este proceso consiste de tres pasos: Extracción de características, Selección de características y Clasificación."
   ]
  },
  {
   "cell_type": "markdown",
   "metadata": {},
   "source": [
    "# Extracción de características  \n",
    "Dado un objeto, se quiere obtener características numéricas o categóricas de estas, que describan el objeto de interés, y más importante, que diferencien el objeto de interés de otros objetos presentes. Pueden ser características que miden la forma, color o textura del objeto."
   ]
  },
  {
   "cell_type": "code",
   "execution_count": 3,
   "metadata": {},
   "outputs": [
    {
     "data": {
      "text/html": [
       "<div>\n",
       "<style scoped>\n",
       "    .dataframe tbody tr th:only-of-type {\n",
       "        vertical-align: middle;\n",
       "    }\n",
       "\n",
       "    .dataframe tbody tr th {\n",
       "        vertical-align: top;\n",
       "    }\n",
       "\n",
       "    .dataframe thead th {\n",
       "        text-align: right;\n",
       "    }\n",
       "</style>\n",
       "<table border=\"1\" class=\"dataframe\">\n",
       "  <thead>\n",
       "    <tr style=\"text-align: right;\">\n",
       "      <th></th>\n",
       "      <th>mean_rojo</th>\n",
       "      <th>sd_rojo</th>\n",
       "      <th>mean_verde</th>\n",
       "      <th>sd_verde</th>\n",
       "      <th>mean_azul</th>\n",
       "      <th>sd_azul</th>\n",
       "      <th>aspect_ratio</th>\n",
       "      <th>extent</th>\n",
       "      <th>clase</th>\n",
       "    </tr>\n",
       "  </thead>\n",
       "  <tbody>\n",
       "    <tr>\n",
       "      <td>0</td>\n",
       "      <td>215.43</td>\n",
       "      <td>250.39</td>\n",
       "      <td>242.66</td>\n",
       "      <td>8.71</td>\n",
       "      <td>8.58</td>\n",
       "      <td>8.99</td>\n",
       "      <td>0.93</td>\n",
       "      <td>0.85</td>\n",
       "      <td>nada</td>\n",
       "    </tr>\n",
       "    <tr>\n",
       "      <td>1</td>\n",
       "      <td>213.50</td>\n",
       "      <td>253.16</td>\n",
       "      <td>240.07</td>\n",
       "      <td>8.88</td>\n",
       "      <td>4.52</td>\n",
       "      <td>6.80</td>\n",
       "      <td>1.42</td>\n",
       "      <td>0.89</td>\n",
       "      <td>nada</td>\n",
       "    </tr>\n",
       "    <tr>\n",
       "      <td>2</td>\n",
       "      <td>208.98</td>\n",
       "      <td>253.13</td>\n",
       "      <td>239.71</td>\n",
       "      <td>12.24</td>\n",
       "      <td>6.00</td>\n",
       "      <td>10.89</td>\n",
       "      <td>1.31</td>\n",
       "      <td>0.67</td>\n",
       "      <td>nada</td>\n",
       "    </tr>\n",
       "    <tr>\n",
       "      <td>3</td>\n",
       "      <td>212.36</td>\n",
       "      <td>241.18</td>\n",
       "      <td>239.87</td>\n",
       "      <td>9.33</td>\n",
       "      <td>10.83</td>\n",
       "      <td>11.19</td>\n",
       "      <td>0.85</td>\n",
       "      <td>0.89</td>\n",
       "      <td>nada</td>\n",
       "    </tr>\n",
       "    <tr>\n",
       "      <td>4</td>\n",
       "      <td>98.76</td>\n",
       "      <td>164.67</td>\n",
       "      <td>165.11</td>\n",
       "      <td>44.84</td>\n",
       "      <td>29.33</td>\n",
       "      <td>25.09</td>\n",
       "      <td>0.72</td>\n",
       "      <td>0.96</td>\n",
       "      <td>energia</td>\n",
       "    </tr>\n",
       "    <tr>\n",
       "      <td>5</td>\n",
       "      <td>112.55</td>\n",
       "      <td>128.09</td>\n",
       "      <td>119.36</td>\n",
       "      <td>42.86</td>\n",
       "      <td>42.34</td>\n",
       "      <td>38.45</td>\n",
       "      <td>0.64</td>\n",
       "      <td>0.92</td>\n",
       "      <td>garantia</td>\n",
       "    </tr>\n",
       "    <tr>\n",
       "      <td>6</td>\n",
       "      <td>101.85</td>\n",
       "      <td>136.16</td>\n",
       "      <td>159.04</td>\n",
       "      <td>6.65</td>\n",
       "      <td>9.46</td>\n",
       "      <td>13.66</td>\n",
       "      <td>0.26</td>\n",
       "      <td>0.63</td>\n",
       "      <td>nada</td>\n",
       "    </tr>\n",
       "    <tr>\n",
       "      <td>7</td>\n",
       "      <td>135.87</td>\n",
       "      <td>215.13</td>\n",
       "      <td>228.29</td>\n",
       "      <td>58.05</td>\n",
       "      <td>34.60</td>\n",
       "      <td>28.51</td>\n",
       "      <td>0.70</td>\n",
       "      <td>0.96</td>\n",
       "      <td>energia</td>\n",
       "    </tr>\n",
       "    <tr>\n",
       "      <td>8</td>\n",
       "      <td>112.25</td>\n",
       "      <td>131.42</td>\n",
       "      <td>128.46</td>\n",
       "      <td>57.32</td>\n",
       "      <td>59.94</td>\n",
       "      <td>54.63</td>\n",
       "      <td>0.65</td>\n",
       "      <td>0.90</td>\n",
       "      <td>garantia</td>\n",
       "    </tr>\n",
       "    <tr>\n",
       "      <td>9</td>\n",
       "      <td>217.39</td>\n",
       "      <td>254.97</td>\n",
       "      <td>242.39</td>\n",
       "      <td>4.69</td>\n",
       "      <td>0.24</td>\n",
       "      <td>5.64</td>\n",
       "      <td>2.18</td>\n",
       "      <td>0.76</td>\n",
       "      <td>nada</td>\n",
       "    </tr>\n",
       "  </tbody>\n",
       "</table>\n",
       "</div>"
      ],
      "text/plain": [
       "   mean_rojo  sd_rojo  mean_verde  sd_verde  mean_azul  sd_azul  aspect_ratio  \\\n",
       "0     215.43   250.39      242.66      8.71       8.58     8.99          0.93   \n",
       "1     213.50   253.16      240.07      8.88       4.52     6.80          1.42   \n",
       "2     208.98   253.13      239.71     12.24       6.00    10.89          1.31   \n",
       "3     212.36   241.18      239.87      9.33      10.83    11.19          0.85   \n",
       "4      98.76   164.67      165.11     44.84      29.33    25.09          0.72   \n",
       "5     112.55   128.09      119.36     42.86      42.34    38.45          0.64   \n",
       "6     101.85   136.16      159.04      6.65       9.46    13.66          0.26   \n",
       "7     135.87   215.13      228.29     58.05      34.60    28.51          0.70   \n",
       "8     112.25   131.42      128.46     57.32      59.94    54.63          0.65   \n",
       "9     217.39   254.97      242.39      4.69       0.24     5.64          2.18   \n",
       "\n",
       "   extent     clase  \n",
       "0    0.85      nada  \n",
       "1    0.89      nada  \n",
       "2    0.67      nada  \n",
       "3    0.89      nada  \n",
       "4    0.96   energia  \n",
       "5    0.92  garantia  \n",
       "6    0.63      nada  \n",
       "7    0.96   energia  \n",
       "8    0.90  garantia  \n",
       "9    0.76      nada  "
      ]
     },
     "execution_count": 3,
     "metadata": {},
     "output_type": "execute_result"
    }
   ],
   "source": [
    "df = pandas.read_csv(\"res/caracteristicas.csv\", sep=\";\", decimal=\",\")\n",
    "df.head(10)"
   ]
  },
  {
   "cell_type": "markdown",
   "metadata": {},
   "source": [
    "mean se refiere al promedio de color en el canal dado, sd a la desviación estandar de color en el canal dado.    \n",
    "Aspect ratio y Extent son calculados sobre un rectangulo envolvente.\n",
    "aspect_ratio se refiere a alto/ancho, y extent se refiere al porcentaje de area que ocupa el objeto sobre el rectangulo.   \n",
    "\n",
    "Nota: algunos modelos de clasificación no admiten la presencia de valores vacíos, o solo admiten variables categóricas o numéricas, considerar esto al momento de escoger un modelo a entrenar."
   ]
  },
  {
   "cell_type": "markdown",
   "metadata": {},
   "source": [
    "# Selección de características \n",
    "Se refiere a, dado un conjunto grande de características, escojer aquellas que pueden realizar la clasificación de la mejor manera.    \n",
    "\n",
    "Algunos propositos de la selección de caracteristicas son los siguientes:\n",
    "1. Evitar el uso de características poco discriminativas\n",
    "2. Evitar características correlacionadas\n",
    "3. Simplificar la etapa de pruebas\n",
    "4. Evitar la maldición de la dimensionalidad\n",
    "5. Evitar falsas correlaciones\n",
    "\n",
    "Algunos ejemplos básicos de selección de caracteristicas son:\n",
    "- Si alguna característica es igual para todos los objetos en los que se mide, entonces esta se elimina.\n",
    "- Si hay dos características altamente correlacionadas, eliminar una de ellas.\n",
    "- Según el problema de aplicación, eliminar aquellas que por lógica no son importantes, como por ejemplo en el caso de las etiquetas medir la rotación de estos respecto a la horizontal no ayuda a diferenciarlos."
   ]
  },
  {
   "cell_type": "markdown",
   "metadata": {},
   "source": [
    "# Clasificación\n",
    "Es la última etapa de todo sistema de visión artificial, es aquí donde se construye el modelo que clasificaran los objetos dados usando las características medidas.\n",
    "Esta etapa aunque es la última suele ser la que más atención necesita, pues aquí se verán reflejados todos los errores cometidos en etapas anteriores además de ser necesario asegurar que el modelo construido sea útil para su uso posterior."
   ]
  },
  {
   "cell_type": "code",
   "execution_count": 4,
   "metadata": {},
   "outputs": [],
   "source": [
    "# Separar en X los datos de entrada (las características medidas), y en Y la clasificación del objeto\n",
    "X = df.drop(\"clase\", axis=1)\n",
    "Y = df[\"clase\"]"
   ]
  },
  {
   "cell_type": "markdown",
   "metadata": {},
   "source": [
    "**División de los datos en conjuntos de entrenamiento y validación**   \n",
    "Para los modelos de aprendizaje supervisado, se pone a prueba el modelo con datos no usados durante la construcción de este. Con el objetivo de validar la utilidad del modelo además de buscar problemas que pueda presentar.\n",
    "\n",
    "Se dividen los datos disponibles en dos conjuntos:\n",
    "- el primero llamado \"train\" es un conjunto de datos a usar para el entrenamiento de modelos de aprendizaje de máquinas.\n",
    "- el segundo llamado \"test\" es un conjunto de validación, se usará para verificar la precisión del modelo construido.\n",
    "\n",
    "Esta división es necesaria para validar que el modelo construido no sufra el problema de overfitting o sobre-entrenamiento, que es cuando un modelo aprende de forma perfecta los datos de entrenamiento, pero a la hora de evaluar un nuevo dato (una etiqueta) arroja un valor completamente errado creando así un modelo inservible."
   ]
  },
  {
   "cell_type": "code",
   "execution_count": 5,
   "metadata": {},
   "outputs": [],
   "source": [
    "# Dividir X y Y en conjuntos de entrenamiento y pruebas, separando el 20% de los datos como datos de pruebas\n",
    "X_train, X_test, y_train, y_test = train_test_split(X, Y, test_size=0.20) "
   ]
  },
  {
   "cell_type": "markdown",
   "metadata": {},
   "source": [
    "**Construcción del modelo**   \n",
    "Ya realizada la división de los datos de entrenamiento y pruebas, se construye el modelo usando los datos de entrenamiento."
   ]
  },
  {
   "cell_type": "code",
   "execution_count": 6,
   "metadata": {},
   "outputs": [
    {
     "data": {
      "text/plain": [
       "DecisionTreeClassifier(class_weight=None, criterion='gini', max_depth=None,\n",
       "                       max_features=None, max_leaf_nodes=None,\n",
       "                       min_impurity_decrease=0.0, min_impurity_split=None,\n",
       "                       min_samples_leaf=1, min_samples_split=2,\n",
       "                       min_weight_fraction_leaf=0.0, presort=False,\n",
       "                       random_state=None, splitter='best')"
      ]
     },
     "execution_count": 6,
     "metadata": {},
     "output_type": "execute_result"
    }
   ],
   "source": [
    "# Arbol de clasificación para predecir la calidad del vino a partir de las caracteristicas dadas.\n",
    "classifier = DecisionTreeClassifier()  \n",
    "# Se entrena el arbol de decisión usando el conjunto de entrenamiento\n",
    "classifier.fit(X_train, y_train)"
   ]
  },
  {
   "cell_type": "markdown",
   "metadata": {},
   "source": [
    "**Evaluación de desempeño**  \n",
    "Usar el conjunto de datos de evaluación para verificar el desempeño del modelo construido. La evaluación consiste en usar el modelo para predecir el valor de salida para los datos de pruebas, y luego comparar los datos predichos contra los datos reales."
   ]
  },
  {
   "cell_type": "code",
   "execution_count": 7,
   "metadata": {},
   "outputs": [
    {
     "name": "stdout",
     "output_type": "stream",
     "text": [
      "Precisión del modelo\n",
      "0.9708633093525179\n"
     ]
    }
   ],
   "source": [
    "# Para ver que tan bien funciona el modelo, se usa este para dar una predicción al conjunto de evaluación,\n",
    "# luego se compara la predicción contra el valor real del conjunto de evaluación.\n",
    "y_pred = classifier.predict(X_test)\n",
    "\n",
    "# Precisión final del modelo sobre el conjunto de pruebas\n",
    "print(\"Precisión del modelo\")\n",
    "print(precision_score(y_test, y_pred, average='weighted'))"
   ]
  },
  {
   "cell_type": "markdown",
   "metadata": {},
   "source": [
    "Al final, el modelo es efectivo en el 94% por los casos de prueba."
   ]
  },
  {
   "cell_type": "code",
   "execution_count": null,
   "metadata": {},
   "outputs": [],
   "source": []
  }
 ],
 "metadata": {
  "kernelspec": {
   "display_name": "Python 3",
   "language": "python",
   "name": "python3"
  },
  "language_info": {
   "codemirror_mode": {
    "name": "ipython",
    "version": 3
   },
   "file_extension": ".py",
   "mimetype": "text/x-python",
   "name": "python",
   "nbconvert_exporter": "python",
   "pygments_lexer": "ipython3",
   "version": "3.7.4"
  }
 },
 "nbformat": 4,
 "nbformat_minor": 2
}
