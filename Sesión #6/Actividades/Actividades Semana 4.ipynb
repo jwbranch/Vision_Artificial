{
 "cells": [
  {
   "cell_type": "markdown",
   "metadata": {},
   "source": [
    "# Actividades Semana 4"
   ]
  },
  {
   "cell_type": "markdown",
   "metadata": {},
   "source": [
    "A continuación se presentan los ejercicios que el estudiante debe desarrollar, para afianzar los conceptos vistos acerca de transformaciones básicas de la imagen."
   ]
  },
  {
   "cell_type": "markdown",
   "metadata": {},
   "source": [
    "## Actividad 1."
   ]
  },
  {
   "cell_type": "markdown",
   "metadata": {},
   "source": [
    "Lea la imagen \"frutas.jpg\" que se encuentra en la carpeta \"res\", realice el subplot de ésta en los canales RGB, HSV, LAB, YUV y XYZ. \n",
    "\n",
    "<br>Genere, compare y analice los histogramas de los canales correspondientes a cada espacio de color, ¿Se parece éste método al que planteó con anterioridad?</br>\n",
    "\n",
    "<b>Recuerde poner títulos y subtítulos a las imágenes y los histogramas</b>"
   ]
  },
  {
   "cell_type": "code",
   "execution_count": null,
   "metadata": {},
   "outputs": [],
   "source": [
    "###Escriba su código aquí###"
   ]
  },
  {
   "cell_type": "markdown",
   "metadata": {},
   "source": [
    "## Actividad 2."
   ]
  },
  {
   "attachments": {},
   "cell_type": "markdown",
   "metadata": {},
   "source": [
    "A continuación se presenta el siguiente problema al aplicar el operador AND sobre la imagen \"pintura.jpg\"\n",
    "\n",
    "<img src=\"res/error.png\"/>\n",
    "\n",
    "Lea la imagen \"pintura.jpg\" y la máscara \"mascara.png\" que se encuentran en la carpeta \"res\".\n",
    "<br>Escriba, en la casilla inferior, un código que arroje este resultado equivocado.</br>"
   ]
  },
  {
   "cell_type": "code",
   "execution_count": 37,
   "metadata": {},
   "outputs": [],
   "source": [
    "###Escriba aquí el código###"
   ]
  },
  {
   "cell_type": "markdown",
   "metadata": {},
   "source": [
    "Ahora, escriba el código que arroja el resultado correcto sobre la imagen de entrada."
   ]
  },
  {
   "cell_type": "code",
   "execution_count": 38,
   "metadata": {},
   "outputs": [],
   "source": [
    "###Escriba aquí el código###"
   ]
  },
  {
   "cell_type": "markdown",
   "metadata": {},
   "source": [
    "Explique, ¿Cómo obtuvo la imagen error? ¿Cómo solucionó el inconveniente?"
   ]
  },
  {
   "cell_type": "markdown",
   "metadata": {},
   "source": []
  },
  {
   "cell_type": "markdown",
   "metadata": {},
   "source": [
    "#### Sugerencia, utilice como base el ejemplo de clase con la imagen \"pibe.jpg\""
   ]
  },
  {
   "cell_type": "markdown",
   "metadata": {},
   "source": [
    "## Actividad 3."
   ]
  },
  {
   "attachments": {},
   "cell_type": "markdown",
   "metadata": {},
   "source": [
    "Una aplicación del operador suma, es la superposición de una imagen con bordes resaltados sobre otra. A continuación se presenta una imagen cuyos bordes quieren hacerse notorios al superponer, pero sólo ha logrado una silueta del modelo, su cliente exige bordes más detallados y que la resolución de la imagen sea 1600x900.\n",
    "\n",
    "<img src=\"res/cliente.png\" style=\"height:150px\"/>\n",
    "\n",
    "Lea la imagen \"tomb.jpg\" que se encuentra en la carpeta \"res\" y encuentre la manera de solucionar el problema planteado."
   ]
  },
  {
   "cell_type": "code",
   "execution_count": null,
   "metadata": {},
   "outputs": [],
   "source": [
    "###Escriba aquí el código###"
   ]
  },
  {
   "cell_type": "markdown",
   "metadata": {},
   "source": [
    "## Actividad 4."
   ]
  },
  {
   "attachments": {},
   "cell_type": "markdown",
   "metadata": {},
   "source": [
    "La operación multiplicación permite la extracción de regiones de interés utilizando máscaras diferentes. En este caso, se entrega la máscara \"mascara2.png\" y la imagen \"tomb.jpg\" que se encuentran en la carpeta \"res\".\n",
    "\n",
    "<br>Lea la imagen de entrada en escala de grises y obtenga la siguiente región de interés bajo la máscara indicada, nótese la reflexión realizada en la imagen.</br>\n",
    "\n",
    "<img src=\"res/ex.png\" style=\"height:150px\"/>\n"
   ]
  },
  {
   "cell_type": "code",
   "execution_count": null,
   "metadata": {},
   "outputs": [],
   "source": [
    "###Escriba aquí el código###"
   ]
  },
  {
   "cell_type": "markdown",
   "metadata": {},
   "source": [
    "## Actividad 5."
   ]
  },
  {
   "cell_type": "markdown",
   "metadata": {},
   "source": [
    "Un cliente, desea colocar una colección de fotos de su físico favorito alrededor de su galería, por tanto posee portarretratos de distinto tamaño y necesita ajustar la imagen a éstos con la mínima pérdida de información, esto significa que NO quiere recortes.\n",
    "\n",
    "<br>La imagen original, se encuentra en la carpeta \"res\" y su nombre es \"feynman.jpg\", el cliente no sabe el tamaño de la imagen original, por lo tanto debe buscarlo.</br>\n",
    "\n",
    "<br>Se le solicita, entregar tres imágenes con los siguientes tamaños (en píxeles): 1600x900, 800x600 y 250x250. Recuerde imprimir en consola el tamaño de la imagen original y las de nuevo tamaño. </br>"
   ]
  },
  {
   "cell_type": "code",
   "execution_count": null,
   "metadata": {},
   "outputs": [],
   "source": [
    "###Escriba aquí el código###"
   ]
  }
 ],
 "metadata": {
  "kernelspec": {
   "display_name": "Python 3",
   "language": "python",
   "name": "python3"
  },
  "language_info": {
   "codemirror_mode": {
    "name": "ipython",
    "version": 3
   },
   "file_extension": ".py",
   "mimetype": "text/x-python",
   "name": "python",
   "nbconvert_exporter": "python",
   "pygments_lexer": "ipython3",
   "version": "3.6.7"
  }
 },
 "nbformat": 4,
 "nbformat_minor": 2
}
